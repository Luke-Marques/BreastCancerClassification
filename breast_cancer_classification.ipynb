{
 "cells": [
  {
   "cell_type": "markdown",
   "metadata": {
    "collapsed": true,
    "pycharm": {
     "name": "#%% md\n"
    }
   },
   "source": [
    "# Breast Cancer Classification using K-Nearest Neighbors\n",
    "\n",
    "###### Project from Codecademy Supervised Machine Learning Course\n",
    "\n",
    "---\n",
    "\n",
    "## Imports"
   ]
  },
  {
   "cell_type": "code",
   "execution_count": 46,
   "outputs": [
    {
     "name": "stdout",
     "output_type": "stream",
     "text": [
      "numpy version   : 1.20.3\n",
      "pandas version  : 1.2.5\n",
      "sklearn version : 0.24.2\n",
      "plotly version  : 4.14.3\n"
     ]
    }
   ],
   "source": [
    "from IPython.core.display import display\n",
    "\n",
    "import numpy as np\n",
    "import pandas as pd\n",
    "\n",
    "from pandas_profiling import ProfileReport\n",
    "\n",
    "import sklearn\n",
    "from sklearn.datasets import load_breast_cancer\n",
    "from sklearn.preprocessing import MinMaxScaler\n",
    "from sklearn.model_selection import train_test_split, KFold, cross_validate\n",
    "from sklearn.neighbors import KNeighborsClassifier\n",
    "\n",
    "import plotly\n",
    "import plotly.express as px\n",
    "\n",
    "print('numpy version   :', np.__version__)\n",
    "print('pandas version  :', pd.__version__)\n",
    "print('sklearn version :', sklearn.__version__)\n",
    "print('plotly version  :', plotly.__version__)"
   ],
   "metadata": {
    "collapsed": false,
    "pycharm": {
     "name": "#%%\n"
    }
   }
  },
  {
   "cell_type": "markdown",
   "source": [
    "---\n",
    "\n",
    "## Data Inspection\n",
    "\n",
    "Let's begin by loading the dataset from sklearn."
   ],
   "metadata": {
    "collapsed": false,
    "pycharm": {
     "name": "#%% md\n"
    }
   }
  },
  {
   "cell_type": "code",
   "execution_count": 2,
   "outputs": [],
   "source": [
    "breast_cancer_data = load_breast_cancer()"
   ],
   "metadata": {
    "collapsed": false,
    "pycharm": {
     "name": "#%%\n"
    }
   }
  },
  {
   "cell_type": "markdown",
   "source": [
    "Next, let's inspect the data, so we know what we're working with."
   ],
   "metadata": {
    "collapsed": false,
    "pycharm": {
     "name": "#%% md\n"
    }
   }
  },
  {
   "cell_type": "code",
   "execution_count": 3,
   "outputs": [
    {
     "name": "stdout",
     "output_type": "stream",
     "text": [
      "[[1.799e+01 1.038e+01 1.228e+02 ... 2.654e-01 4.601e-01 1.189e-01]\n",
      " [2.057e+01 1.777e+01 1.329e+02 ... 1.860e-01 2.750e-01 8.902e-02]\n",
      " [1.969e+01 2.125e+01 1.300e+02 ... 2.430e-01 3.613e-01 8.758e-02]\n",
      " ...\n",
      " [1.660e+01 2.808e+01 1.083e+02 ... 1.418e-01 2.218e-01 7.820e-02]\n",
      " [2.060e+01 2.933e+01 1.401e+02 ... 2.650e-01 4.087e-01 1.240e-01]\n",
      " [7.760e+00 2.454e+01 4.792e+01 ... 0.000e+00 2.871e-01 7.039e-02]]\n"
     ]
    }
   ],
   "source": [
    "# show all data in dataset\n",
    "print(breast_cancer_data.data)"
   ],
   "metadata": {
    "collapsed": false,
    "pycharm": {
     "name": "#%%\n"
    }
   }
  },
  {
   "cell_type": "code",
   "execution_count": 4,
   "outputs": [
    {
     "name": "stdout",
     "output_type": "stream",
     "text": [
      "[1.799e+01 1.038e+01 1.228e+02 1.001e+03 1.184e-01 2.776e-01 3.001e-01\n",
      " 1.471e-01 2.419e-01 7.871e-02 1.095e+00 9.053e-01 8.589e+00 1.534e+02\n",
      " 6.399e-03 4.904e-02 5.373e-02 1.587e-02 3.003e-02 6.193e-03 2.538e+01\n",
      " 1.733e+01 1.846e+02 2.019e+03 1.622e-01 6.656e-01 7.119e-01 2.654e-01\n",
      " 4.601e-01 1.189e-01]\n"
     ]
    }
   ],
   "source": [
    "# show the first datapoint in the dataset\n",
    "print(breast_cancer_data.data[0])"
   ],
   "metadata": {
    "collapsed": false,
    "pycharm": {
     "name": "#%%\n"
    }
   }
  },
  {
   "cell_type": "markdown",
   "source": [
    "That's a lot of random numbers. Let's take a look at the feature names, so we can see what each of them represents."
   ],
   "metadata": {
    "collapsed": false,
    "pycharm": {
     "name": "#%% md\n"
    }
   },
   "outputs": [
    {
     "ename": "SyntaxError",
     "evalue": "EOL while scanning string literal (1268211287.py, line 1)",
     "output_type": "error",
     "traceback": [
      "\u001B[0;36m  File \u001B[0;32m\"/var/folders/d2/91j5_0x955d4vljr65_g3slw0000gn/T/ipykernel_56684/1268211287.py\"\u001B[0;36m, line \u001B[0;32m1\u001B[0m\n\u001B[0;31m    That's\u001B[0m\n\u001B[0m           ^\u001B[0m\n\u001B[0;31mSyntaxError\u001B[0m\u001B[0;31m:\u001B[0m EOL while scanning string literal\n"
     ]
    }
   ],
   "execution_count": 9
  },
  {
   "cell_type": "code",
   "execution_count": 5,
   "outputs": [
    {
     "name": "stdout",
     "output_type": "stream",
     "text": [
      "['mean radius' 'mean texture' 'mean perimeter' 'mean area'\n",
      " 'mean smoothness' 'mean compactness' 'mean concavity'\n",
      " 'mean concave points' 'mean symmetry' 'mean fractal dimension'\n",
      " 'radius error' 'texture error' 'perimeter error' 'area error'\n",
      " 'smoothness error' 'compactness error' 'concavity error'\n",
      " 'concave points error' 'symmetry error' 'fractal dimension error'\n",
      " 'worst radius' 'worst texture' 'worst perimeter' 'worst area'\n",
      " 'worst smoothness' 'worst compactness' 'worst concavity'\n",
      " 'worst concave points' 'worst symmetry' 'worst fractal dimension']\n"
     ]
    }
   ],
   "source": [
    "print(breast_cancer_data.feature_names)"
   ],
   "metadata": {
    "collapsed": false,
    "pycharm": {
     "name": "#%%\n"
    }
   }
  },
  {
   "cell_type": "markdown",
   "source": [
    "Now we have a better understanding of the features within this dataset, let's take a look at the target variable."
   ],
   "metadata": {
    "collapsed": false,
    "pycharm": {
     "name": "#%% md\n"
    }
   }
  },
  {
   "cell_type": "code",
   "execution_count": 6,
   "outputs": [
    {
     "name": "stdout",
     "output_type": "stream",
     "text": [
      "[0 0 0 0 0 0 0 0 0 0 0 0 0 0 0 0 0 0 0 1 1 1 0 0 0 0 0 0 0 0 0 0 0 0 0 0 0\n",
      " 1 0 0 0 0 0 0 0 0 1 0 1 1 1 1 1 0 0 1 0 0 1 1 1 1 0 1 0 0 1 1 1 1 0 1 0 0\n",
      " 1 0 1 0 0 1 1 1 0 0 1 0 0 0 1 1 1 0 1 1 0 0 1 1 1 0 0 1 1 1 1 0 1 1 0 1 1\n",
      " 1 1 1 1 1 1 0 0 0 1 0 0 1 1 1 0 0 1 0 1 0 0 1 0 0 1 1 0 1 1 0 1 1 1 1 0 1\n",
      " 1 1 1 1 1 1 1 1 0 1 1 1 1 0 0 1 0 1 1 0 0 1 1 0 0 1 1 1 1 0 1 1 0 0 0 1 0\n",
      " 1 0 1 1 1 0 1 1 0 0 1 0 0 0 0 1 0 0 0 1 0 1 0 1 1 0 1 0 0 0 0 1 1 0 0 1 1\n",
      " 1 0 1 1 1 1 1 0 0 1 1 0 1 1 0 0 1 0 1 1 1 1 0 1 1 1 1 1 0 1 0 0 0 0 0 0 0\n",
      " 0 0 0 0 0 0 0 1 1 1 1 1 1 0 1 0 1 1 0 1 1 0 1 0 0 1 1 1 1 1 1 1 1 1 1 1 1\n",
      " 1 0 1 1 0 1 0 1 1 1 1 1 1 1 1 1 1 1 1 1 1 0 1 1 1 0 1 0 1 1 1 1 0 0 0 1 1\n",
      " 1 1 0 1 0 1 0 1 1 1 0 1 1 1 1 1 1 1 0 0 0 1 1 1 1 1 1 1 1 1 1 1 0 0 1 0 0\n",
      " 0 1 0 0 1 1 1 1 1 0 1 1 1 1 1 0 1 1 1 0 1 1 0 0 1 1 1 1 1 1 0 1 1 1 1 1 1\n",
      " 1 0 1 1 1 1 1 0 1 1 0 1 1 1 1 1 1 1 1 1 1 1 1 0 1 0 0 1 0 1 1 1 1 1 0 1 1\n",
      " 0 1 0 1 1 0 1 0 1 1 1 1 1 1 1 1 0 0 1 1 1 1 1 1 0 1 1 1 1 1 1 1 1 1 1 0 1\n",
      " 1 1 1 1 1 1 0 1 0 1 1 0 1 1 1 1 1 0 0 1 0 1 0 1 1 1 1 1 0 1 1 0 1 0 1 0 0\n",
      " 1 1 1 0 1 1 1 1 1 1 1 1 1 1 1 0 1 0 0 1 1 1 1 1 1 1 1 1 1 1 1 1 1 1 1 1 1\n",
      " 1 1 1 1 1 1 1 0 0 0 0 0 0 1]\n"
     ]
    }
   ],
   "source": [
    "# show target values\n",
    "print(breast_cancer_data.target)"
   ],
   "metadata": {
    "collapsed": false,
    "pycharm": {
     "name": "#%%\n"
    }
   }
  },
  {
   "cell_type": "code",
   "execution_count": 7,
   "outputs": [
    {
     "name": "stdout",
     "output_type": "stream",
     "text": [
      "['malignant' 'benign']\n"
     ]
    }
   ],
   "source": [
    "# show target names\n",
    "print(breast_cancer_data.target_names)"
   ],
   "metadata": {
    "collapsed": false,
    "pycharm": {
     "name": "#%%\n"
    }
   }
  },
  {
   "cell_type": "markdown",
   "source": [
    "We can see that our target variable for this dataset is a binary variable, either 0 or 1. A value of 0 represents a\n",
    "malignant tumor, and a value of 1 represents a benign tumor."
   ],
   "metadata": {
    "collapsed": false,
    "pycharm": {
     "name": "#%% md\n"
    }
   }
  },
  {
   "cell_type": "markdown",
   "source": [
    "Just visually, we can see that the target variables are relatively balanced, let's confirm this is the case before we\n",
    "move on."
   ],
   "metadata": {
    "collapsed": false,
    "pycharm": {
     "name": "#%% md\n"
    }
   }
  },
  {
   "cell_type": "code",
   "execution_count": 8,
   "outputs": [],
   "source": [
    "num_malignant = len([val for val in breast_cancer_data.target if val == 0])\n",
    "num_benign = len([val for val in breast_cancer_data.target if val == 1])\n",
    "num_samples = len(breast_cancer_data.target)"
   ],
   "metadata": {
    "collapsed": false,
    "pycharm": {
     "name": "#%%\n"
    }
   }
  },
  {
   "cell_type": "code",
   "execution_count": 9,
   "outputs": [
    {
     "name": "stdout",
     "output_type": "stream",
     "text": [
      "Percentage malignant : 37.26%\n",
      "Percentage benign    : 62.74%\n"
     ]
    }
   ],
   "source": [
    "print(f'Percentage malignant : {round((num_malignant/num_samples)*100, 2)}%')\n",
    "print(f'Percentage benign    : {round((num_benign/num_samples)*100, 2)}%')"
   ],
   "metadata": {
    "collapsed": false,
    "pycharm": {
     "name": "#%%\n"
    }
   }
  },
  {
   "cell_type": "markdown",
   "source": [
    "We have a very slight imbalance, roughly 1 : 1.5, with malignant tumors as the minority class. This shouldn't need any\n",
    "special treatment, and we can proceed without having to worry about resampling or class weights."
   ],
   "metadata": {
    "collapsed": false,
    "pycharm": {
     "name": "#%% md\n"
    }
   }
  },
  {
   "cell_type": "markdown",
   "source": [
    "I'm just going to transform the data from a dictionary to a Pandas DataFrame object, and do a little exploratory data\n",
    "analysis. This will help us get a better idea of the features."
   ],
   "metadata": {
    "collapsed": false,
    "pycharm": {
     "name": "#%% md\n"
    }
   }
  },
  {
   "cell_type": "code",
   "execution_count": 10,
   "outputs": [],
   "source": [
    "col_names = [col_name.replace(' ', '_') for col_name in list(breast_cancer_data.feature_names)] + ['target']\n",
    "\n",
    "# convert dictionary of np arrays to Pandas Dataframe using numpy concat method\n",
    "df = pd.DataFrame(data = np.c_[breast_cancer_data.data, breast_cancer_data.target],\n",
    "                  columns = col_names)"
   ],
   "metadata": {
    "collapsed": false,
    "pycharm": {
     "name": "#%%\n"
    }
   }
  },
  {
   "cell_type": "code",
   "execution_count": 11,
   "outputs": [
    {
     "data": {
      "text/plain": "   mean_radius  mean_texture  mean_perimeter  mean_area  mean_smoothness  \\\n0        17.99         10.38          122.80     1001.0          0.11840   \n1        20.57         17.77          132.90     1326.0          0.08474   \n2        19.69         21.25          130.00     1203.0          0.10960   \n3        11.42         20.38           77.58      386.1          0.14250   \n4        20.29         14.34          135.10     1297.0          0.10030   \n\n   mean_compactness  mean_concavity  mean_concave_points  mean_symmetry  \\\n0           0.27760          0.3001              0.14710         0.2419   \n1           0.07864          0.0869              0.07017         0.1812   \n2           0.15990          0.1974              0.12790         0.2069   \n3           0.28390          0.2414              0.10520         0.2597   \n4           0.13280          0.1980              0.10430         0.1809   \n\n   mean_fractal_dimension  ...  worst_texture  worst_perimeter  worst_area  \\\n0                 0.07871  ...          17.33           184.60      2019.0   \n1                 0.05667  ...          23.41           158.80      1956.0   \n2                 0.05999  ...          25.53           152.50      1709.0   \n3                 0.09744  ...          26.50            98.87       567.7   \n4                 0.05883  ...          16.67           152.20      1575.0   \n\n   worst_smoothness  worst_compactness  worst_concavity  worst_concave_points  \\\n0            0.1622             0.6656           0.7119                0.2654   \n1            0.1238             0.1866           0.2416                0.1860   \n2            0.1444             0.4245           0.4504                0.2430   \n3            0.2098             0.8663           0.6869                0.2575   \n4            0.1374             0.2050           0.4000                0.1625   \n\n   worst_symmetry  worst_fractal_dimension  target  \n0          0.4601                  0.11890     0.0  \n1          0.2750                  0.08902     0.0  \n2          0.3613                  0.08758     0.0  \n3          0.6638                  0.17300     0.0  \n4          0.2364                  0.07678     0.0  \n\n[5 rows x 31 columns]",
      "text/html": "<div>\n<style scoped>\n    .dataframe tbody tr th:only-of-type {\n        vertical-align: middle;\n    }\n\n    .dataframe tbody tr th {\n        vertical-align: top;\n    }\n\n    .dataframe thead th {\n        text-align: right;\n    }\n</style>\n<table border=\"1\" class=\"dataframe\">\n  <thead>\n    <tr style=\"text-align: right;\">\n      <th></th>\n      <th>mean_radius</th>\n      <th>mean_texture</th>\n      <th>mean_perimeter</th>\n      <th>mean_area</th>\n      <th>mean_smoothness</th>\n      <th>mean_compactness</th>\n      <th>mean_concavity</th>\n      <th>mean_concave_points</th>\n      <th>mean_symmetry</th>\n      <th>mean_fractal_dimension</th>\n      <th>...</th>\n      <th>worst_texture</th>\n      <th>worst_perimeter</th>\n      <th>worst_area</th>\n      <th>worst_smoothness</th>\n      <th>worst_compactness</th>\n      <th>worst_concavity</th>\n      <th>worst_concave_points</th>\n      <th>worst_symmetry</th>\n      <th>worst_fractal_dimension</th>\n      <th>target</th>\n    </tr>\n  </thead>\n  <tbody>\n    <tr>\n      <th>0</th>\n      <td>17.99</td>\n      <td>10.38</td>\n      <td>122.80</td>\n      <td>1001.0</td>\n      <td>0.11840</td>\n      <td>0.27760</td>\n      <td>0.3001</td>\n      <td>0.14710</td>\n      <td>0.2419</td>\n      <td>0.07871</td>\n      <td>...</td>\n      <td>17.33</td>\n      <td>184.60</td>\n      <td>2019.0</td>\n      <td>0.1622</td>\n      <td>0.6656</td>\n      <td>0.7119</td>\n      <td>0.2654</td>\n      <td>0.4601</td>\n      <td>0.11890</td>\n      <td>0.0</td>\n    </tr>\n    <tr>\n      <th>1</th>\n      <td>20.57</td>\n      <td>17.77</td>\n      <td>132.90</td>\n      <td>1326.0</td>\n      <td>0.08474</td>\n      <td>0.07864</td>\n      <td>0.0869</td>\n      <td>0.07017</td>\n      <td>0.1812</td>\n      <td>0.05667</td>\n      <td>...</td>\n      <td>23.41</td>\n      <td>158.80</td>\n      <td>1956.0</td>\n      <td>0.1238</td>\n      <td>0.1866</td>\n      <td>0.2416</td>\n      <td>0.1860</td>\n      <td>0.2750</td>\n      <td>0.08902</td>\n      <td>0.0</td>\n    </tr>\n    <tr>\n      <th>2</th>\n      <td>19.69</td>\n      <td>21.25</td>\n      <td>130.00</td>\n      <td>1203.0</td>\n      <td>0.10960</td>\n      <td>0.15990</td>\n      <td>0.1974</td>\n      <td>0.12790</td>\n      <td>0.2069</td>\n      <td>0.05999</td>\n      <td>...</td>\n      <td>25.53</td>\n      <td>152.50</td>\n      <td>1709.0</td>\n      <td>0.1444</td>\n      <td>0.4245</td>\n      <td>0.4504</td>\n      <td>0.2430</td>\n      <td>0.3613</td>\n      <td>0.08758</td>\n      <td>0.0</td>\n    </tr>\n    <tr>\n      <th>3</th>\n      <td>11.42</td>\n      <td>20.38</td>\n      <td>77.58</td>\n      <td>386.1</td>\n      <td>0.14250</td>\n      <td>0.28390</td>\n      <td>0.2414</td>\n      <td>0.10520</td>\n      <td>0.2597</td>\n      <td>0.09744</td>\n      <td>...</td>\n      <td>26.50</td>\n      <td>98.87</td>\n      <td>567.7</td>\n      <td>0.2098</td>\n      <td>0.8663</td>\n      <td>0.6869</td>\n      <td>0.2575</td>\n      <td>0.6638</td>\n      <td>0.17300</td>\n      <td>0.0</td>\n    </tr>\n    <tr>\n      <th>4</th>\n      <td>20.29</td>\n      <td>14.34</td>\n      <td>135.10</td>\n      <td>1297.0</td>\n      <td>0.10030</td>\n      <td>0.13280</td>\n      <td>0.1980</td>\n      <td>0.10430</td>\n      <td>0.1809</td>\n      <td>0.05883</td>\n      <td>...</td>\n      <td>16.67</td>\n      <td>152.20</td>\n      <td>1575.0</td>\n      <td>0.1374</td>\n      <td>0.2050</td>\n      <td>0.4000</td>\n      <td>0.1625</td>\n      <td>0.2364</td>\n      <td>0.07678</td>\n      <td>0.0</td>\n    </tr>\n  </tbody>\n</table>\n<p>5 rows × 31 columns</p>\n</div>"
     },
     "metadata": {},
     "output_type": "display_data"
    }
   ],
   "source": [
    "display(df.head())"
   ],
   "metadata": {
    "collapsed": false,
    "pycharm": {
     "name": "#%%\n"
    }
   }
  },
  {
   "cell_type": "markdown",
   "source": [
    "### Data Scaling\n",
    "\n",
    "The first thing that jumps out is the scale of the feature values. For example, if we look at ```mean area``` we can see\n",
    "it has drastically larger values than some other columns.\n",
    "\n",
    "This is a particular problem for k-nearest neighbors clustering, as it works using the distance between data points,\n",
    "based on all features. Thus, if one feature is much larger than the others, it will dominate the distance calculations.\n",
    "\n",
    "Scaling is usually good to do for all models however, as it prevents things from going wrong during the loss function\n",
    "gradient descent.\n",
    "\n",
    "We can either choose to scale all the feature data to be between some range of real numbers (e.g. 0 and 1) or we can\n",
    "normalise all the data.\n",
    "\n",
    "For now, let's simply scale the data to be between 0 and 1."
   ],
   "metadata": {
    "collapsed": false,
    "pycharm": {
     "name": "#%% md\n"
    }
   }
  },
  {
   "cell_type": "code",
   "execution_count": 12,
   "outputs": [],
   "source": [
    "scaler = MinMaxScaler()\n",
    "df.iloc[:, :-1] = scaler.fit_transform(df.iloc[:, :-1])  # defaults to 0-1 scaling"
   ],
   "metadata": {
    "collapsed": false,
    "pycharm": {
     "name": "#%%\n"
    }
   }
  },
  {
   "cell_type": "code",
   "execution_count": 13,
   "outputs": [
    {
     "data": {
      "text/plain": "   mean_radius  mean_texture  mean_perimeter  mean_area  mean_smoothness  \\\n0     0.521037      0.022658        0.545989   0.363733         0.593753   \n1     0.643144      0.272574        0.615783   0.501591         0.289880   \n2     0.601496      0.390260        0.595743   0.449417         0.514309   \n3     0.210090      0.360839        0.233501   0.102906         0.811321   \n4     0.629893      0.156578        0.630986   0.489290         0.430351   \n\n   mean_compactness  mean_concavity  mean_concave_points  mean_symmetry  \\\n0          0.792037        0.703140             0.731113       0.686364   \n1          0.181768        0.203608             0.348757       0.379798   \n2          0.431017        0.462512             0.635686       0.509596   \n3          0.811361        0.565604             0.522863       0.776263   \n4          0.347893        0.463918             0.518390       0.378283   \n\n   mean_fractal_dimension  ...  worst_texture  worst_perimeter  worst_area  \\\n0                0.605518  ...       0.141525         0.668310    0.450698   \n1                0.141323  ...       0.303571         0.539818    0.435214   \n2                0.211247  ...       0.360075         0.508442    0.374508   \n3                1.000000  ...       0.385928         0.241347    0.094008   \n4                0.186816  ...       0.123934         0.506948    0.341575   \n\n   worst_smoothness  worst_compactness  worst_concavity  worst_concave_points  \\\n0          0.601136           0.619292         0.568610              0.912027   \n1          0.347553           0.154563         0.192971              0.639175   \n2          0.483590           0.385375         0.359744              0.835052   \n3          0.915472           0.814012         0.548642              0.884880   \n4          0.437364           0.172415         0.319489              0.558419   \n\n   worst_symmetry  worst_fractal_dimension  target  \n0        0.598462                 0.418864     0.0  \n1        0.233590                 0.222878     0.0  \n2        0.403706                 0.213433     0.0  \n3        1.000000                 0.773711     0.0  \n4        0.157500                 0.142595     0.0  \n\n[5 rows x 31 columns]",
      "text/html": "<div>\n<style scoped>\n    .dataframe tbody tr th:only-of-type {\n        vertical-align: middle;\n    }\n\n    .dataframe tbody tr th {\n        vertical-align: top;\n    }\n\n    .dataframe thead th {\n        text-align: right;\n    }\n</style>\n<table border=\"1\" class=\"dataframe\">\n  <thead>\n    <tr style=\"text-align: right;\">\n      <th></th>\n      <th>mean_radius</th>\n      <th>mean_texture</th>\n      <th>mean_perimeter</th>\n      <th>mean_area</th>\n      <th>mean_smoothness</th>\n      <th>mean_compactness</th>\n      <th>mean_concavity</th>\n      <th>mean_concave_points</th>\n      <th>mean_symmetry</th>\n      <th>mean_fractal_dimension</th>\n      <th>...</th>\n      <th>worst_texture</th>\n      <th>worst_perimeter</th>\n      <th>worst_area</th>\n      <th>worst_smoothness</th>\n      <th>worst_compactness</th>\n      <th>worst_concavity</th>\n      <th>worst_concave_points</th>\n      <th>worst_symmetry</th>\n      <th>worst_fractal_dimension</th>\n      <th>target</th>\n    </tr>\n  </thead>\n  <tbody>\n    <tr>\n      <th>0</th>\n      <td>0.521037</td>\n      <td>0.022658</td>\n      <td>0.545989</td>\n      <td>0.363733</td>\n      <td>0.593753</td>\n      <td>0.792037</td>\n      <td>0.703140</td>\n      <td>0.731113</td>\n      <td>0.686364</td>\n      <td>0.605518</td>\n      <td>...</td>\n      <td>0.141525</td>\n      <td>0.668310</td>\n      <td>0.450698</td>\n      <td>0.601136</td>\n      <td>0.619292</td>\n      <td>0.568610</td>\n      <td>0.912027</td>\n      <td>0.598462</td>\n      <td>0.418864</td>\n      <td>0.0</td>\n    </tr>\n    <tr>\n      <th>1</th>\n      <td>0.643144</td>\n      <td>0.272574</td>\n      <td>0.615783</td>\n      <td>0.501591</td>\n      <td>0.289880</td>\n      <td>0.181768</td>\n      <td>0.203608</td>\n      <td>0.348757</td>\n      <td>0.379798</td>\n      <td>0.141323</td>\n      <td>...</td>\n      <td>0.303571</td>\n      <td>0.539818</td>\n      <td>0.435214</td>\n      <td>0.347553</td>\n      <td>0.154563</td>\n      <td>0.192971</td>\n      <td>0.639175</td>\n      <td>0.233590</td>\n      <td>0.222878</td>\n      <td>0.0</td>\n    </tr>\n    <tr>\n      <th>2</th>\n      <td>0.601496</td>\n      <td>0.390260</td>\n      <td>0.595743</td>\n      <td>0.449417</td>\n      <td>0.514309</td>\n      <td>0.431017</td>\n      <td>0.462512</td>\n      <td>0.635686</td>\n      <td>0.509596</td>\n      <td>0.211247</td>\n      <td>...</td>\n      <td>0.360075</td>\n      <td>0.508442</td>\n      <td>0.374508</td>\n      <td>0.483590</td>\n      <td>0.385375</td>\n      <td>0.359744</td>\n      <td>0.835052</td>\n      <td>0.403706</td>\n      <td>0.213433</td>\n      <td>0.0</td>\n    </tr>\n    <tr>\n      <th>3</th>\n      <td>0.210090</td>\n      <td>0.360839</td>\n      <td>0.233501</td>\n      <td>0.102906</td>\n      <td>0.811321</td>\n      <td>0.811361</td>\n      <td>0.565604</td>\n      <td>0.522863</td>\n      <td>0.776263</td>\n      <td>1.000000</td>\n      <td>...</td>\n      <td>0.385928</td>\n      <td>0.241347</td>\n      <td>0.094008</td>\n      <td>0.915472</td>\n      <td>0.814012</td>\n      <td>0.548642</td>\n      <td>0.884880</td>\n      <td>1.000000</td>\n      <td>0.773711</td>\n      <td>0.0</td>\n    </tr>\n    <tr>\n      <th>4</th>\n      <td>0.629893</td>\n      <td>0.156578</td>\n      <td>0.630986</td>\n      <td>0.489290</td>\n      <td>0.430351</td>\n      <td>0.347893</td>\n      <td>0.463918</td>\n      <td>0.518390</td>\n      <td>0.378283</td>\n      <td>0.186816</td>\n      <td>...</td>\n      <td>0.123934</td>\n      <td>0.506948</td>\n      <td>0.341575</td>\n      <td>0.437364</td>\n      <td>0.172415</td>\n      <td>0.319489</td>\n      <td>0.558419</td>\n      <td>0.157500</td>\n      <td>0.142595</td>\n      <td>0.0</td>\n    </tr>\n  </tbody>\n</table>\n<p>5 rows × 31 columns</p>\n</div>"
     },
     "metadata": {},
     "output_type": "display_data"
    }
   ],
   "source": [
    "display(df.head())"
   ],
   "metadata": {
    "collapsed": false,
    "pycharm": {
     "name": "#%%\n"
    }
   }
  },
  {
   "cell_type": "code",
   "execution_count": 14,
   "outputs": [
    {
     "data": {
      "text/plain": "                         count      mean       std  min       25%       50%  \\\nmean_radius              569.0  0.338222  0.166787  0.0  0.223342  0.302381   \nmean_texture             569.0  0.323965  0.145453  0.0  0.218465  0.308759   \nmean_perimeter           569.0  0.332935  0.167915  0.0  0.216847  0.293345   \nmean_area                569.0  0.216920  0.149274  0.0  0.117413  0.172895   \nmean_smoothness          569.0  0.394785  0.126967  0.0  0.304595  0.390358   \nmean_compactness         569.0  0.260601  0.161992  0.0  0.139685  0.224679   \nmean_concavity           569.0  0.208058  0.186785  0.0  0.069260  0.144189   \nmean_concave_points      569.0  0.243137  0.192857  0.0  0.100944  0.166501   \nmean_symmetry            569.0  0.379605  0.138456  0.0  0.282323  0.369697   \nmean_fractal_dimension   569.0  0.270379  0.148702  0.0  0.163016  0.243892   \nradius_error             569.0  0.106345  0.100421  0.0  0.043781  0.077023   \ntexture_error            569.0  0.189324  0.121917  0.0  0.104690  0.165267   \nperimeter_error          569.0  0.099376  0.095267  0.0  0.040004  0.072092   \narea_error               569.0  0.062636  0.084967  0.0  0.020635  0.033112   \nsmoothness_error         569.0  0.181119  0.102067  0.0  0.117483  0.158650   \ncompactness_error        569.0  0.174439  0.134498  0.0  0.081323  0.136675   \nconcavity_error          569.0  0.080540  0.076227  0.0  0.038106  0.065379   \nconcave_points_error     569.0  0.223454  0.116884  0.0  0.144686  0.207047   \nsymmetry_error           569.0  0.178143  0.116316  0.0  0.102409  0.152643   \nfractal_dimension_error  569.0  0.100193  0.091417  0.0  0.046750  0.079191   \nworst_radius             569.0  0.296663  0.171940  0.0  0.180719  0.250445   \nworst_texture            569.0  0.363998  0.163813  0.0  0.241471  0.356876   \nworst_perimeter          569.0  0.283138  0.167352  0.0  0.167837  0.235320   \nworst_area               569.0  0.170906  0.139932  0.0  0.081130  0.123206   \nworst_smoothness         569.0  0.404138  0.150779  0.0  0.300007  0.397081   \nworst_compactness        569.0  0.220212  0.152649  0.0  0.116337  0.179110   \nworst_concavity          569.0  0.217403  0.166633  0.0  0.091454  0.181070   \nworst_concave_points     569.0  0.393836  0.225884  0.0  0.223127  0.343402   \nworst_symmetry           569.0  0.263307  0.121954  0.0  0.185098  0.247782   \nworst_fractal_dimension  569.0  0.189596  0.118466  0.0  0.107700  0.163977   \ntarget                   569.0  0.627417  0.483918  0.0  0.000000  1.000000   \n\n                              75%  max  \nmean_radius              0.416442  1.0  \nmean_texture             0.408860  1.0  \nmean_perimeter           0.416765  1.0  \nmean_area                0.271135  1.0  \nmean_smoothness          0.475490  1.0  \nmean_compactness         0.340531  1.0  \nmean_concavity           0.306232  1.0  \nmean_concave_points      0.367793  1.0  \nmean_symmetry            0.453030  1.0  \nmean_fractal_dimension   0.340354  1.0  \nradius_error             0.133044  1.0  \ntexture_error            0.246155  1.0  \nperimeter_error          0.122509  1.0  \narea_error               0.071700  1.0  \nsmoothness_error         0.218683  1.0  \ncompactness_error        0.226800  1.0  \nconcavity_error          0.106187  1.0  \nconcave_points_error     0.278651  1.0  \nsymmetry_error           0.219480  1.0  \nfractal_dimension_error  0.126556  1.0  \nworst_radius             0.386339  1.0  \nworst_texture            0.471748  1.0  \nworst_perimeter          0.373475  1.0  \nworst_area               0.220901  1.0  \nworst_smoothness         0.494156  1.0  \nworst_compactness        0.302520  1.0  \nworst_concavity          0.305831  1.0  \nworst_concave_points     0.554639  1.0  \nworst_symmetry           0.318155  1.0  \nworst_fractal_dimension  0.242949  1.0  \ntarget                   1.000000  1.0  ",
      "text/html": "<div>\n<style scoped>\n    .dataframe tbody tr th:only-of-type {\n        vertical-align: middle;\n    }\n\n    .dataframe tbody tr th {\n        vertical-align: top;\n    }\n\n    .dataframe thead th {\n        text-align: right;\n    }\n</style>\n<table border=\"1\" class=\"dataframe\">\n  <thead>\n    <tr style=\"text-align: right;\">\n      <th></th>\n      <th>count</th>\n      <th>mean</th>\n      <th>std</th>\n      <th>min</th>\n      <th>25%</th>\n      <th>50%</th>\n      <th>75%</th>\n      <th>max</th>\n    </tr>\n  </thead>\n  <tbody>\n    <tr>\n      <th>mean_radius</th>\n      <td>569.0</td>\n      <td>0.338222</td>\n      <td>0.166787</td>\n      <td>0.0</td>\n      <td>0.223342</td>\n      <td>0.302381</td>\n      <td>0.416442</td>\n      <td>1.0</td>\n    </tr>\n    <tr>\n      <th>mean_texture</th>\n      <td>569.0</td>\n      <td>0.323965</td>\n      <td>0.145453</td>\n      <td>0.0</td>\n      <td>0.218465</td>\n      <td>0.308759</td>\n      <td>0.408860</td>\n      <td>1.0</td>\n    </tr>\n    <tr>\n      <th>mean_perimeter</th>\n      <td>569.0</td>\n      <td>0.332935</td>\n      <td>0.167915</td>\n      <td>0.0</td>\n      <td>0.216847</td>\n      <td>0.293345</td>\n      <td>0.416765</td>\n      <td>1.0</td>\n    </tr>\n    <tr>\n      <th>mean_area</th>\n      <td>569.0</td>\n      <td>0.216920</td>\n      <td>0.149274</td>\n      <td>0.0</td>\n      <td>0.117413</td>\n      <td>0.172895</td>\n      <td>0.271135</td>\n      <td>1.0</td>\n    </tr>\n    <tr>\n      <th>mean_smoothness</th>\n      <td>569.0</td>\n      <td>0.394785</td>\n      <td>0.126967</td>\n      <td>0.0</td>\n      <td>0.304595</td>\n      <td>0.390358</td>\n      <td>0.475490</td>\n      <td>1.0</td>\n    </tr>\n    <tr>\n      <th>mean_compactness</th>\n      <td>569.0</td>\n      <td>0.260601</td>\n      <td>0.161992</td>\n      <td>0.0</td>\n      <td>0.139685</td>\n      <td>0.224679</td>\n      <td>0.340531</td>\n      <td>1.0</td>\n    </tr>\n    <tr>\n      <th>mean_concavity</th>\n      <td>569.0</td>\n      <td>0.208058</td>\n      <td>0.186785</td>\n      <td>0.0</td>\n      <td>0.069260</td>\n      <td>0.144189</td>\n      <td>0.306232</td>\n      <td>1.0</td>\n    </tr>\n    <tr>\n      <th>mean_concave_points</th>\n      <td>569.0</td>\n      <td>0.243137</td>\n      <td>0.192857</td>\n      <td>0.0</td>\n      <td>0.100944</td>\n      <td>0.166501</td>\n      <td>0.367793</td>\n      <td>1.0</td>\n    </tr>\n    <tr>\n      <th>mean_symmetry</th>\n      <td>569.0</td>\n      <td>0.379605</td>\n      <td>0.138456</td>\n      <td>0.0</td>\n      <td>0.282323</td>\n      <td>0.369697</td>\n      <td>0.453030</td>\n      <td>1.0</td>\n    </tr>\n    <tr>\n      <th>mean_fractal_dimension</th>\n      <td>569.0</td>\n      <td>0.270379</td>\n      <td>0.148702</td>\n      <td>0.0</td>\n      <td>0.163016</td>\n      <td>0.243892</td>\n      <td>0.340354</td>\n      <td>1.0</td>\n    </tr>\n    <tr>\n      <th>radius_error</th>\n      <td>569.0</td>\n      <td>0.106345</td>\n      <td>0.100421</td>\n      <td>0.0</td>\n      <td>0.043781</td>\n      <td>0.077023</td>\n      <td>0.133044</td>\n      <td>1.0</td>\n    </tr>\n    <tr>\n      <th>texture_error</th>\n      <td>569.0</td>\n      <td>0.189324</td>\n      <td>0.121917</td>\n      <td>0.0</td>\n      <td>0.104690</td>\n      <td>0.165267</td>\n      <td>0.246155</td>\n      <td>1.0</td>\n    </tr>\n    <tr>\n      <th>perimeter_error</th>\n      <td>569.0</td>\n      <td>0.099376</td>\n      <td>0.095267</td>\n      <td>0.0</td>\n      <td>0.040004</td>\n      <td>0.072092</td>\n      <td>0.122509</td>\n      <td>1.0</td>\n    </tr>\n    <tr>\n      <th>area_error</th>\n      <td>569.0</td>\n      <td>0.062636</td>\n      <td>0.084967</td>\n      <td>0.0</td>\n      <td>0.020635</td>\n      <td>0.033112</td>\n      <td>0.071700</td>\n      <td>1.0</td>\n    </tr>\n    <tr>\n      <th>smoothness_error</th>\n      <td>569.0</td>\n      <td>0.181119</td>\n      <td>0.102067</td>\n      <td>0.0</td>\n      <td>0.117483</td>\n      <td>0.158650</td>\n      <td>0.218683</td>\n      <td>1.0</td>\n    </tr>\n    <tr>\n      <th>compactness_error</th>\n      <td>569.0</td>\n      <td>0.174439</td>\n      <td>0.134498</td>\n      <td>0.0</td>\n      <td>0.081323</td>\n      <td>0.136675</td>\n      <td>0.226800</td>\n      <td>1.0</td>\n    </tr>\n    <tr>\n      <th>concavity_error</th>\n      <td>569.0</td>\n      <td>0.080540</td>\n      <td>0.076227</td>\n      <td>0.0</td>\n      <td>0.038106</td>\n      <td>0.065379</td>\n      <td>0.106187</td>\n      <td>1.0</td>\n    </tr>\n    <tr>\n      <th>concave_points_error</th>\n      <td>569.0</td>\n      <td>0.223454</td>\n      <td>0.116884</td>\n      <td>0.0</td>\n      <td>0.144686</td>\n      <td>0.207047</td>\n      <td>0.278651</td>\n      <td>1.0</td>\n    </tr>\n    <tr>\n      <th>symmetry_error</th>\n      <td>569.0</td>\n      <td>0.178143</td>\n      <td>0.116316</td>\n      <td>0.0</td>\n      <td>0.102409</td>\n      <td>0.152643</td>\n      <td>0.219480</td>\n      <td>1.0</td>\n    </tr>\n    <tr>\n      <th>fractal_dimension_error</th>\n      <td>569.0</td>\n      <td>0.100193</td>\n      <td>0.091417</td>\n      <td>0.0</td>\n      <td>0.046750</td>\n      <td>0.079191</td>\n      <td>0.126556</td>\n      <td>1.0</td>\n    </tr>\n    <tr>\n      <th>worst_radius</th>\n      <td>569.0</td>\n      <td>0.296663</td>\n      <td>0.171940</td>\n      <td>0.0</td>\n      <td>0.180719</td>\n      <td>0.250445</td>\n      <td>0.386339</td>\n      <td>1.0</td>\n    </tr>\n    <tr>\n      <th>worst_texture</th>\n      <td>569.0</td>\n      <td>0.363998</td>\n      <td>0.163813</td>\n      <td>0.0</td>\n      <td>0.241471</td>\n      <td>0.356876</td>\n      <td>0.471748</td>\n      <td>1.0</td>\n    </tr>\n    <tr>\n      <th>worst_perimeter</th>\n      <td>569.0</td>\n      <td>0.283138</td>\n      <td>0.167352</td>\n      <td>0.0</td>\n      <td>0.167837</td>\n      <td>0.235320</td>\n      <td>0.373475</td>\n      <td>1.0</td>\n    </tr>\n    <tr>\n      <th>worst_area</th>\n      <td>569.0</td>\n      <td>0.170906</td>\n      <td>0.139932</td>\n      <td>0.0</td>\n      <td>0.081130</td>\n      <td>0.123206</td>\n      <td>0.220901</td>\n      <td>1.0</td>\n    </tr>\n    <tr>\n      <th>worst_smoothness</th>\n      <td>569.0</td>\n      <td>0.404138</td>\n      <td>0.150779</td>\n      <td>0.0</td>\n      <td>0.300007</td>\n      <td>0.397081</td>\n      <td>0.494156</td>\n      <td>1.0</td>\n    </tr>\n    <tr>\n      <th>worst_compactness</th>\n      <td>569.0</td>\n      <td>0.220212</td>\n      <td>0.152649</td>\n      <td>0.0</td>\n      <td>0.116337</td>\n      <td>0.179110</td>\n      <td>0.302520</td>\n      <td>1.0</td>\n    </tr>\n    <tr>\n      <th>worst_concavity</th>\n      <td>569.0</td>\n      <td>0.217403</td>\n      <td>0.166633</td>\n      <td>0.0</td>\n      <td>0.091454</td>\n      <td>0.181070</td>\n      <td>0.305831</td>\n      <td>1.0</td>\n    </tr>\n    <tr>\n      <th>worst_concave_points</th>\n      <td>569.0</td>\n      <td>0.393836</td>\n      <td>0.225884</td>\n      <td>0.0</td>\n      <td>0.223127</td>\n      <td>0.343402</td>\n      <td>0.554639</td>\n      <td>1.0</td>\n    </tr>\n    <tr>\n      <th>worst_symmetry</th>\n      <td>569.0</td>\n      <td>0.263307</td>\n      <td>0.121954</td>\n      <td>0.0</td>\n      <td>0.185098</td>\n      <td>0.247782</td>\n      <td>0.318155</td>\n      <td>1.0</td>\n    </tr>\n    <tr>\n      <th>worst_fractal_dimension</th>\n      <td>569.0</td>\n      <td>0.189596</td>\n      <td>0.118466</td>\n      <td>0.0</td>\n      <td>0.107700</td>\n      <td>0.163977</td>\n      <td>0.242949</td>\n      <td>1.0</td>\n    </tr>\n    <tr>\n      <th>target</th>\n      <td>569.0</td>\n      <td>0.627417</td>\n      <td>0.483918</td>\n      <td>0.0</td>\n      <td>0.000000</td>\n      <td>1.000000</td>\n      <td>1.000000</td>\n      <td>1.0</td>\n    </tr>\n  </tbody>\n</table>\n</div>"
     },
     "metadata": {},
     "output_type": "display_data"
    }
   ],
   "source": [
    "display(df.describe().T)"
   ],
   "metadata": {
    "collapsed": false,
    "pycharm": {
     "name": "#%%\n"
    }
   }
  },
  {
   "cell_type": "code",
   "execution_count": 15,
   "outputs": [
    {
     "name": "stdout",
     "output_type": "stream",
     "text": [
      "mean_radius                float64\n",
      "mean_texture               float64\n",
      "mean_perimeter             float64\n",
      "mean_area                  float64\n",
      "mean_smoothness            float64\n",
      "mean_compactness           float64\n",
      "mean_concavity             float64\n",
      "mean_concave_points        float64\n",
      "mean_symmetry              float64\n",
      "mean_fractal_dimension     float64\n",
      "radius_error               float64\n",
      "texture_error              float64\n",
      "perimeter_error            float64\n",
      "area_error                 float64\n",
      "smoothness_error           float64\n",
      "compactness_error          float64\n",
      "concavity_error            float64\n",
      "concave_points_error       float64\n",
      "symmetry_error             float64\n",
      "fractal_dimension_error    float64\n",
      "worst_radius               float64\n",
      "worst_texture              float64\n",
      "worst_perimeter            float64\n",
      "worst_area                 float64\n",
      "worst_smoothness           float64\n",
      "worst_compactness          float64\n",
      "worst_concavity            float64\n",
      "worst_concave_points       float64\n",
      "worst_symmetry             float64\n",
      "worst_fractal_dimension    float64\n",
      "target                     float64\n",
      "dtype: object\n"
     ]
    }
   ],
   "source": [
    "print(df.dtypes)"
   ],
   "metadata": {
    "collapsed": false,
    "pycharm": {
     "name": "#%%\n"
    }
   }
  },
  {
   "cell_type": "markdown",
   "source": [
    "I've found a superb method of quickly, visually inspecting features in a dataset is to use the ```ProfileReport```\n",
    "from the ```pandas_profiling``` module. Let's take a look at the data using this method."
   ],
   "metadata": {
    "collapsed": false,
    "pycharm": {
     "name": "#%% md\n"
    }
   },
   "outputs": [
    {
     "ename": "NameError",
     "evalue": "name 'I' is not defined",
     "output_type": "error",
     "traceback": [
      "\u001B[0;31m---------------------------------------------------------------------------\u001B[0m",
      "\u001B[0;31mNameError\u001B[0m                                 Traceback (most recent call last)",
      "\u001B[0;32m/var/folders/d2/91j5_0x955d4vljr65_g3slw0000gn/T/ipykernel_56684/3296266417.py\u001B[0m in \u001B[0;36m<module>\u001B[0;34m\u001B[0m\n\u001B[0;32m----> 1\u001B[0;31m \u001B[0mI\u001B[0m\u001B[0;34m\u001B[0m\u001B[0;34m\u001B[0m\u001B[0m\n\u001B[0m\u001B[1;32m      2\u001B[0m \u001B[0;34m\u001B[0m\u001B[0m\n\u001B[1;32m      3\u001B[0m \u001B[0;34m\u001B[0m\u001B[0m\n",
      "\u001B[0;31mNameError\u001B[0m: name 'I' is not defined"
     ]
    }
   ],
   "execution_count": 93
  },
  {
   "cell_type": "code",
   "execution_count": 16,
   "outputs": [],
   "source": [
    "profile = ProfileReport(df, title='Breast Cancer Dataset Report', dark_mode=True, progress_bar=False)"
   ],
   "metadata": {
    "collapsed": false,
    "pycharm": {
     "name": "#%%\n"
    }
   }
  },
  {
   "cell_type": "code",
   "execution_count": 17,
   "outputs": [
    {
     "data": {
      "text/plain": "VBox(children=(Tab(children=(Tab(children=(GridBox(children=(VBox(children=(GridspecLayout(children=(HTML(valu…",
      "application/vnd.jupyter.widget-view+json": {
       "version_major": 2,
       "version_minor": 0,
       "model_id": "9c6fcc4b6c96426daa5af809837ff502"
      }
     },
     "metadata": {},
     "output_type": "display_data"
    }
   ],
   "source": [
    "profile.to_widgets()"
   ],
   "metadata": {
    "collapsed": false,
    "pycharm": {
     "name": "#%%\n"
    }
   }
  },
  {
   "cell_type": "markdown",
   "source": [
    "Feel free to flick through the tabs in the report. I find the variable correlations and interactions tabs particularly\n",
    "insightful.\n",
    "\n",
    "For example, if we look at the Pearson's correlation matrix, in the \"Correlations\" tab of the report, we can see the\n",
    "features which have the greatest correlation to the target output are:\n",
    "- ```mean_radius```\n",
    "- ```mean_perimeter```\n",
    "- ```mea_area```\n",
    "-  ```mean_concave_points```\n",
    "- ```worst_radius```\n",
    "- ```worst_perimeter```\n",
    "- ```worst_area```\n",
    "- ```worst_concave_points```\n",
    "\n",
    "This would already tell us a great deal about what to look out for when trying to diagnose a tumor as malignant, by\n",
    "paying particular attention to the size of the tumor... even if that may seem a little obvious."
   ],
   "metadata": {
    "collapsed": false,
    "pycharm": {
     "name": "#%% md\n"
    }
   }
  },
  {
   "cell_type": "markdown",
   "source": [
    "Overall, this data is of course in pretty good shape. We don't have any missing data, or any extreme outliers that we\n",
    "should worry about."
   ],
   "metadata": {
    "collapsed": false,
    "pycharm": {
     "name": "#%% md\n"
    }
   }
  },
  {
   "cell_type": "markdown",
   "source": [
    "---\n",
    "\n",
    "## Data Splitting\n",
    "\n",
    "As with any supervised machine learning project, we must split our labelled data into training and testing sets, so as\n",
    "to avoid overfitting our model by training it on the same data we test it on.\n",
    "\n",
    "### Train Test Split\n",
    "\n",
    "To handle this data splitting, we could use scikit-learn's ```train_test_split``` function.\n",
    "\n",
    "Let's use a standard train/test split proportion of 80:20, giving us enough data to properly train our model, but also\n",
    "saving enough for the test to be a good indication of the model's performance."
   ],
   "metadata": {
    "collapsed": false,
    "pycharm": {
     "name": "#%% md\n"
    }
   }
  },
  {
   "cell_type": "code",
   "execution_count": 18,
   "outputs": [],
   "source": [
    "# define independent variables\n",
    "X = df.iloc[:, :-1]\n",
    "\n",
    "# define dependent variable (target)\n",
    "y = df['target']"
   ],
   "metadata": {
    "collapsed": false,
    "pycharm": {
     "name": "#%%\n"
    }
   }
  },
  {
   "cell_type": "code",
   "execution_count": 21,
   "outputs": [],
   "source": [
    "X_train, X_test, y_train, y_test = train_test_split(X, y, test_size=0.2, random_state=100)\n",
    "# leaving in random_state=100 just so we always get the same split every time we run this"
   ],
   "metadata": {
    "collapsed": false,
    "pycharm": {
     "name": "#%%\n"
    }
   }
  },
  {
   "cell_type": "markdown",
   "source": [
    "We can confirm everything worked as expected by printing the shapes of the resulting dataframes."
   ],
   "metadata": {
    "collapsed": false,
    "pycharm": {
     "name": "#%% md\n"
    }
   }
  },
  {
   "cell_type": "code",
   "execution_count": 27,
   "outputs": [
    {
     "name": "stdout",
     "output_type": "stream",
     "text": [
      "Training data shape   : (455, 30)\n",
      "Training target shape : (455,)\n"
     ]
    }
   ],
   "source": [
    "print('Training data shape   :', X_train.shape)\n",
    "print('Training target shape :', y_train.shape)"
   ],
   "metadata": {
    "collapsed": false,
    "pycharm": {
     "name": "#%%\n"
    }
   }
  },
  {
   "cell_type": "code",
   "execution_count": 28,
   "outputs": [
    {
     "name": "stdout",
     "output_type": "stream",
     "text": [
      "Testing data shape   : (114, 30)\n",
      "Testing target shape : (114,)\n"
     ]
    }
   ],
   "source": [
    "print('Testing data shape   :', X_test.shape)\n",
    "print('Testing target shape :', y_test.shape)"
   ],
   "metadata": {
    "collapsed": false,
    "pycharm": {
     "name": "#%%\n"
    }
   }
  },
  {
   "cell_type": "markdown",
   "source": [
    "Whilst the train test split method will work just fine, there is a more robust method of splitting our data available to\n",
    "us.\n",
    "\n",
    "### K-Fold Cross Validation\n",
    "\n",
    "Instead of splitting the data just once, into 80% training data and 20% testing data, we split it into $$k$$ \"folds\",\n",
    "such that if $$k=5$$, we would have 5 \"folds\" of our data, each containing 20% of our total data.\n",
    "\n",
    "We then perform 5 loops of model training and evaluation, each time using a different data \"fold\". This allows us to\n",
    "produce more accurate, aggregate metrics for our model, whilst ensuring we are constantly testing it on data it has not\n",
    "seen before.\n",
    "\n",
    "We can accomplish this using ```KFold``` and the ```cross_validate``` method from scikit-learn."
   ],
   "metadata": {
    "collapsed": false,
    "pycharm": {
     "name": "#%% md\n"
    }
   }
  },
  {
   "cell_type": "code",
   "execution_count": 32,
   "outputs": [],
   "source": [
    "k_folds = 5\n",
    "kf = KFold(n_splits=k_folds)"
   ],
   "metadata": {
    "collapsed": false,
    "pycharm": {
     "name": "#%%\n"
    }
   }
  },
  {
   "cell_type": "markdown",
   "source": [
    "We'll return to this in a moment, once we've defined our model."
   ],
   "metadata": {
    "collapsed": false,
    "pycharm": {
     "name": "#%% md\n"
    }
   }
  },
  {
   "cell_type": "markdown",
   "source": [
    "---\n",
    "\n",
    "## K-Nearest Neighbors Classification Model\n",
    "\n",
    "Now, it's time to begin building and training our model."
   ],
   "metadata": {
    "collapsed": false,
    "pycharm": {
     "name": "#%% md\n"
    }
   }
  },
  {
   "cell_type": "code",
   "execution_count": 56,
   "outputs": [],
   "source": [
    "def evaluate_model(k_neighbors):\n",
    "    clf = KNeighborsClassifier(n_neighbors=k_neighbors)\n",
    "    scores = cross_validate(clf, X, y, scoring=['accuracy', 'f1'], cv=kf)\n",
    "    return scores['test_accuracy'].mean(), scores['test_f1'].mean()"
   ],
   "metadata": {
    "collapsed": false,
    "pycharm": {
     "name": "#%%\n"
    }
   }
  },
  {
   "cell_type": "code",
   "execution_count": 58,
   "outputs": [],
   "source": [
    "k_neighbors_scores = {}\n",
    "\n",
    "for i in range(1, 101):\n",
    "    acc, f1 = evaluate_model(i)\n",
    "    k_neighbors_scores[i] = {\n",
    "        'accuracy': acc,\n",
    "        'f1': f1\n",
    "    }"
   ],
   "metadata": {
    "collapsed": false,
    "pycharm": {
     "name": "#%%\n"
    }
   }
  },
  {
   "cell_type": "markdown",
   "source": [
    "### Plotting Results"
   ],
   "metadata": {
    "collapsed": false,
    "pycharm": {
     "name": "#%% md\n"
    }
   }
  },
  {
   "cell_type": "code",
   "execution_count": 59,
   "outputs": [],
   "source": [
    "df_scores = pd.DataFrame.from_dict(k_neighbors_scores, orient='index') \\\n",
    "                .reset_index(drop=False) \\\n",
    "                .rename(columns={'index': 'k_neighbors'})"
   ],
   "metadata": {
    "collapsed": false,
    "pycharm": {
     "name": "#%%\n"
    }
   }
  },
  {
   "cell_type": "code",
   "execution_count": 60,
   "outputs": [],
   "source": [
    "df_scores = pd.melt(df_scores,\n",
    "                    id_vars='k_neighbors',\n",
    "                    value_vars=['accuracy', 'f1'],\n",
    "                    var_name='metric',\n",
    "                    value_name='score')"
   ],
   "metadata": {
    "collapsed": false,
    "pycharm": {
     "name": "#%%\n"
    }
   }
  },
  {
   "cell_type": "code",
   "execution_count": 62,
   "outputs": [
    {
     "data": {
      "application/vnd.plotly.v1+json": {
       "config": {
        "plotlyServerURL": "https://plot.ly"
       },
       "data": [
        {
         "hovertemplate": "metric=accuracy<br>k_neighbors=%{x}<br>score=%{y}<extra></extra>",
         "legendgroup": "accuracy",
         "line": {
          "color": "#636efa",
          "dash": "solid"
         },
         "mode": "lines",
         "name": "accuracy",
         "orientation": "v",
         "showlegend": true,
         "type": "scatter",
         "x": [
          1,
          2,
          3,
          4,
          5,
          6,
          7,
          8,
          9,
          10,
          11,
          12,
          13,
          14,
          15,
          16,
          17,
          18,
          19,
          20,
          21,
          22,
          23,
          24,
          25,
          26,
          27,
          28,
          29,
          30,
          31,
          32,
          33,
          34,
          35,
          36,
          37,
          38,
          39,
          40,
          41,
          42,
          43,
          44,
          45,
          46,
          47,
          48,
          49,
          50,
          51,
          52,
          53,
          54,
          55,
          56,
          57,
          58,
          59,
          60,
          61,
          62,
          63,
          64,
          65,
          66,
          67,
          68,
          69,
          70,
          71,
          72,
          73,
          74,
          75,
          76,
          77,
          78,
          79,
          80,
          81,
          82,
          83,
          84,
          85,
          86,
          87,
          88,
          89,
          90,
          91,
          92,
          93,
          94,
          95,
          96,
          97,
          98,
          99,
          100
         ],
         "xaxis": "x",
         "y": [
          0.9560316721006055,
          0.9489830771619314,
          0.9630647414997672,
          0.9577860580655179,
          0.9631113181183046,
          0.9595714951094549,
          0.9666356155876418,
          0.9648657040832168,
          0.9683744760130415,
          0.9683589504735289,
          0.9613569321533924,
          0.9613569321533924,
          0.9578481602235678,
          0.9560937742586555,
          0.9561092997981679,
          0.9578636857630803,
          0.9561092997981679,
          0.9543393882937432,
          0.9560937742586555,
          0.9560937742586555,
          0.9543549138332557,
          0.9543549138332557,
          0.9508461419034312,
          0.9543549138332557,
          0.9543549138332557,
          0.9525850023288308,
          0.9490762303990063,
          0.9490762303990063,
          0.9490762303990063,
          0.9508306163639186,
          0.9490762303990063,
          0.9525850023288308,
          0.9490762303990063,
          0.9525850023288308,
          0.9525850023288308,
          0.9543393882937432,
          0.9525850023288308,
          0.9525850023288308,
          0.9525850023288308,
          0.9525850023288308,
          0.9508306163639186,
          0.9508306163639186,
          0.9508306163639186,
          0.952585002328831,
          0.9525850023288308,
          0.9508306163639186,
          0.9525850023288308,
          0.9525850023288308,
          0.9490762303990063,
          0.9490762303990063,
          0.9473218444340941,
          0.9490762303990063,
          0.9455674584691817,
          0.9490762303990063,
          0.9473218444340941,
          0.9490762303990063,
          0.9455674584691817,
          0.9473218444340941,
          0.9438130725042695,
          0.9455674584691819,
          0.9438130725042695,
          0.9438130725042695,
          0.9403043005744449,
          0.9420586865393572,
          0.9420586865393572,
          0.9420586865393572,
          0.9403043005744449,
          0.9420586865393572,
          0.9403043005744449,
          0.9420586865393572,
          0.9385499146095327,
          0.9385499146095327,
          0.9367955286446203,
          0.9350411426797081,
          0.9332867567147958,
          0.9350411426797081,
          0.9350411426797081,
          0.9350411426797081,
          0.9332867567147958,
          0.9367955286446203,
          0.9332867567147959,
          0.9350411426797081,
          0.9315323707498836,
          0.9350411426797081,
          0.9332867567147958,
          0.9367955286446203,
          0.9332867567147959,
          0.9332867567147959,
          0.9280235988200589,
          0.9332867567147959,
          0.9297779847849712,
          0.9297779847849712,
          0.9297779847849712,
          0.9297779847849712,
          0.9280235988200589,
          0.9297779847849712,
          0.9280235988200589,
          0.9280235988200589,
          0.9280235988200589,
          0.9280235988200589
         ],
         "yaxis": "y"
        },
        {
         "hovertemplate": "metric=f1<br>k_neighbors=%{x}<br>score=%{y}<extra></extra>",
         "legendgroup": "f1",
         "line": {
          "color": "#EF553B",
          "dash": "solid"
         },
         "mode": "lines",
         "name": "f1",
         "orientation": "v",
         "showlegend": true,
         "type": "scatter",
         "x": [
          1,
          2,
          3,
          4,
          5,
          6,
          7,
          8,
          9,
          10,
          11,
          12,
          13,
          14,
          15,
          16,
          17,
          18,
          19,
          20,
          21,
          22,
          23,
          24,
          25,
          26,
          27,
          28,
          29,
          30,
          31,
          32,
          33,
          34,
          35,
          36,
          37,
          38,
          39,
          40,
          41,
          42,
          43,
          44,
          45,
          46,
          47,
          48,
          49,
          50,
          51,
          52,
          53,
          54,
          55,
          56,
          57,
          58,
          59,
          60,
          61,
          62,
          63,
          64,
          65,
          66,
          67,
          68,
          69,
          70,
          71,
          72,
          73,
          74,
          75,
          76,
          77,
          78,
          79,
          80,
          81,
          82,
          83,
          84,
          85,
          86,
          87,
          88,
          89,
          90,
          91,
          92,
          93,
          94,
          95,
          96,
          97,
          98,
          99,
          100
         ],
         "xaxis": "x",
         "y": [
          0.9632831766838953,
          0.9573873790879779,
          0.9678891444594779,
          0.9622246811928203,
          0.9658345095536731,
          0.9620458002656973,
          0.9681736908402229,
          0.9680776808330988,
          0.9711142116459535,
          0.9718500909135583,
          0.9641288941157713,
          0.9647231615634185,
          0.9606391190149797,
          0.9600056473471504,
          0.959174354483952,
          0.9611614915029945,
          0.9594142579561105,
          0.9582584138002664,
          0.9594557684817839,
          0.9589851802464899,
          0.9566900440101771,
          0.9566900440101771,
          0.953858980056747,
          0.9566900440101771,
          0.957217947479257,
          0.956193814061138,
          0.9529764935213851,
          0.9529764935213851,
          0.9529764935213851,
          0.9546248451697368,
          0.9529764935213851,
          0.9563052036462117,
          0.9529764935213851,
          0.9563052036462117,
          0.956786017330909,
          0.9584709990158906,
          0.956786017330909,
          0.9563052036462117,
          0.956786017330909,
          0.9563052036462117,
          0.9546248451697368,
          0.9546248451697368,
          0.9546522049508586,
          0.9558081957029325,
          0.9568133771120306,
          0.955630186577555,
          0.9568133771120306,
          0.9568133771120306,
          0.9537440655299555,
          0.9539769969998371,
          0.9525608749954799,
          0.9539769969998371,
          0.9509733920431696,
          0.9537440655299555,
          0.9523486168395305,
          0.9537440655299555,
          0.9509733920431696,
          0.9523486168395305,
          0.949351103205222,
          0.9507263280015831,
          0.9491340815495235,
          0.9491340815495235,
          0.9464860669354811,
          0.9477588567531626,
          0.9477588567531626,
          0.9477588567531626,
          0.9464860669354811,
          0.9477588567531626,
          0.9464860669354811,
          0.9477588567531626,
          0.9446612136555194,
          0.9446612136555194,
          0.9433884238378379,
          0.9418439406050018,
          0.9404898731132002,
          0.9418439406050018,
          0.9418439406050018,
          0.9418439406050018,
          0.9404898731132002,
          0.9431167304226833,
          0.9403369790980403,
          0.9416097689157217,
          0.9389211169176124,
          0.9416097689157217,
          0.9402557014239203,
          0.9431167304226833,
          0.9403369790980403,
          0.9403369790980403,
          0.93633280808657,
          0.9403369790980403,
          0.9376483270999308,
          0.9376483270999308,
          0.9376483270999308,
          0.9376483270999308,
          0.9361682756198795,
          0.9375028601261872,
          0.9361682756198795,
          0.9361682756198795,
          0.9361682756198795,
          0.9353793080026351
         ],
         "yaxis": "y"
        }
       ],
       "layout": {
        "legend": {
         "title": {
          "text": "metric"
         },
         "tracegroupgap": 0
        },
        "margin": {
         "t": 60
        },
        "template": {
         "data": {
          "bar": [
           {
            "error_x": {
             "color": "#2a3f5f"
            },
            "error_y": {
             "color": "#2a3f5f"
            },
            "marker": {
             "line": {
              "color": "#E5ECF6",
              "width": 0.5
             }
            },
            "type": "bar"
           }
          ],
          "barpolar": [
           {
            "marker": {
             "line": {
              "color": "#E5ECF6",
              "width": 0.5
             }
            },
            "type": "barpolar"
           }
          ],
          "carpet": [
           {
            "aaxis": {
             "endlinecolor": "#2a3f5f",
             "gridcolor": "white",
             "linecolor": "white",
             "minorgridcolor": "white",
             "startlinecolor": "#2a3f5f"
            },
            "baxis": {
             "endlinecolor": "#2a3f5f",
             "gridcolor": "white",
             "linecolor": "white",
             "minorgridcolor": "white",
             "startlinecolor": "#2a3f5f"
            },
            "type": "carpet"
           }
          ],
          "choropleth": [
           {
            "colorbar": {
             "outlinewidth": 0,
             "ticks": ""
            },
            "type": "choropleth"
           }
          ],
          "contour": [
           {
            "colorbar": {
             "outlinewidth": 0,
             "ticks": ""
            },
            "colorscale": [
             [
              0.0,
              "#0d0887"
             ],
             [
              0.1111111111111111,
              "#46039f"
             ],
             [
              0.2222222222222222,
              "#7201a8"
             ],
             [
              0.3333333333333333,
              "#9c179e"
             ],
             [
              0.4444444444444444,
              "#bd3786"
             ],
             [
              0.5555555555555556,
              "#d8576b"
             ],
             [
              0.6666666666666666,
              "#ed7953"
             ],
             [
              0.7777777777777778,
              "#fb9f3a"
             ],
             [
              0.8888888888888888,
              "#fdca26"
             ],
             [
              1.0,
              "#f0f921"
             ]
            ],
            "type": "contour"
           }
          ],
          "contourcarpet": [
           {
            "colorbar": {
             "outlinewidth": 0,
             "ticks": ""
            },
            "type": "contourcarpet"
           }
          ],
          "heatmap": [
           {
            "colorbar": {
             "outlinewidth": 0,
             "ticks": ""
            },
            "colorscale": [
             [
              0.0,
              "#0d0887"
             ],
             [
              0.1111111111111111,
              "#46039f"
             ],
             [
              0.2222222222222222,
              "#7201a8"
             ],
             [
              0.3333333333333333,
              "#9c179e"
             ],
             [
              0.4444444444444444,
              "#bd3786"
             ],
             [
              0.5555555555555556,
              "#d8576b"
             ],
             [
              0.6666666666666666,
              "#ed7953"
             ],
             [
              0.7777777777777778,
              "#fb9f3a"
             ],
             [
              0.8888888888888888,
              "#fdca26"
             ],
             [
              1.0,
              "#f0f921"
             ]
            ],
            "type": "heatmap"
           }
          ],
          "heatmapgl": [
           {
            "colorbar": {
             "outlinewidth": 0,
             "ticks": ""
            },
            "colorscale": [
             [
              0.0,
              "#0d0887"
             ],
             [
              0.1111111111111111,
              "#46039f"
             ],
             [
              0.2222222222222222,
              "#7201a8"
             ],
             [
              0.3333333333333333,
              "#9c179e"
             ],
             [
              0.4444444444444444,
              "#bd3786"
             ],
             [
              0.5555555555555556,
              "#d8576b"
             ],
             [
              0.6666666666666666,
              "#ed7953"
             ],
             [
              0.7777777777777778,
              "#fb9f3a"
             ],
             [
              0.8888888888888888,
              "#fdca26"
             ],
             [
              1.0,
              "#f0f921"
             ]
            ],
            "type": "heatmapgl"
           }
          ],
          "histogram": [
           {
            "marker": {
             "colorbar": {
              "outlinewidth": 0,
              "ticks": ""
             }
            },
            "type": "histogram"
           }
          ],
          "histogram2d": [
           {
            "colorbar": {
             "outlinewidth": 0,
             "ticks": ""
            },
            "colorscale": [
             [
              0.0,
              "#0d0887"
             ],
             [
              0.1111111111111111,
              "#46039f"
             ],
             [
              0.2222222222222222,
              "#7201a8"
             ],
             [
              0.3333333333333333,
              "#9c179e"
             ],
             [
              0.4444444444444444,
              "#bd3786"
             ],
             [
              0.5555555555555556,
              "#d8576b"
             ],
             [
              0.6666666666666666,
              "#ed7953"
             ],
             [
              0.7777777777777778,
              "#fb9f3a"
             ],
             [
              0.8888888888888888,
              "#fdca26"
             ],
             [
              1.0,
              "#f0f921"
             ]
            ],
            "type": "histogram2d"
           }
          ],
          "histogram2dcontour": [
           {
            "colorbar": {
             "outlinewidth": 0,
             "ticks": ""
            },
            "colorscale": [
             [
              0.0,
              "#0d0887"
             ],
             [
              0.1111111111111111,
              "#46039f"
             ],
             [
              0.2222222222222222,
              "#7201a8"
             ],
             [
              0.3333333333333333,
              "#9c179e"
             ],
             [
              0.4444444444444444,
              "#bd3786"
             ],
             [
              0.5555555555555556,
              "#d8576b"
             ],
             [
              0.6666666666666666,
              "#ed7953"
             ],
             [
              0.7777777777777778,
              "#fb9f3a"
             ],
             [
              0.8888888888888888,
              "#fdca26"
             ],
             [
              1.0,
              "#f0f921"
             ]
            ],
            "type": "histogram2dcontour"
           }
          ],
          "mesh3d": [
           {
            "colorbar": {
             "outlinewidth": 0,
             "ticks": ""
            },
            "type": "mesh3d"
           }
          ],
          "parcoords": [
           {
            "line": {
             "colorbar": {
              "outlinewidth": 0,
              "ticks": ""
             }
            },
            "type": "parcoords"
           }
          ],
          "pie": [
           {
            "automargin": true,
            "type": "pie"
           }
          ],
          "scatter": [
           {
            "marker": {
             "colorbar": {
              "outlinewidth": 0,
              "ticks": ""
             }
            },
            "type": "scatter"
           }
          ],
          "scatter3d": [
           {
            "line": {
             "colorbar": {
              "outlinewidth": 0,
              "ticks": ""
             }
            },
            "marker": {
             "colorbar": {
              "outlinewidth": 0,
              "ticks": ""
             }
            },
            "type": "scatter3d"
           }
          ],
          "scattercarpet": [
           {
            "marker": {
             "colorbar": {
              "outlinewidth": 0,
              "ticks": ""
             }
            },
            "type": "scattercarpet"
           }
          ],
          "scattergeo": [
           {
            "marker": {
             "colorbar": {
              "outlinewidth": 0,
              "ticks": ""
             }
            },
            "type": "scattergeo"
           }
          ],
          "scattergl": [
           {
            "marker": {
             "colorbar": {
              "outlinewidth": 0,
              "ticks": ""
             }
            },
            "type": "scattergl"
           }
          ],
          "scattermapbox": [
           {
            "marker": {
             "colorbar": {
              "outlinewidth": 0,
              "ticks": ""
             }
            },
            "type": "scattermapbox"
           }
          ],
          "scatterpolar": [
           {
            "marker": {
             "colorbar": {
              "outlinewidth": 0,
              "ticks": ""
             }
            },
            "type": "scatterpolar"
           }
          ],
          "scatterpolargl": [
           {
            "marker": {
             "colorbar": {
              "outlinewidth": 0,
              "ticks": ""
             }
            },
            "type": "scatterpolargl"
           }
          ],
          "scatterternary": [
           {
            "marker": {
             "colorbar": {
              "outlinewidth": 0,
              "ticks": ""
             }
            },
            "type": "scatterternary"
           }
          ],
          "surface": [
           {
            "colorbar": {
             "outlinewidth": 0,
             "ticks": ""
            },
            "colorscale": [
             [
              0.0,
              "#0d0887"
             ],
             [
              0.1111111111111111,
              "#46039f"
             ],
             [
              0.2222222222222222,
              "#7201a8"
             ],
             [
              0.3333333333333333,
              "#9c179e"
             ],
             [
              0.4444444444444444,
              "#bd3786"
             ],
             [
              0.5555555555555556,
              "#d8576b"
             ],
             [
              0.6666666666666666,
              "#ed7953"
             ],
             [
              0.7777777777777778,
              "#fb9f3a"
             ],
             [
              0.8888888888888888,
              "#fdca26"
             ],
             [
              1.0,
              "#f0f921"
             ]
            ],
            "type": "surface"
           }
          ],
          "table": [
           {
            "cells": {
             "fill": {
              "color": "#EBF0F8"
             },
             "line": {
              "color": "white"
             }
            },
            "header": {
             "fill": {
              "color": "#C8D4E3"
             },
             "line": {
              "color": "white"
             }
            },
            "type": "table"
           }
          ]
         },
         "layout": {
          "annotationdefaults": {
           "arrowcolor": "#2a3f5f",
           "arrowhead": 0,
           "arrowwidth": 1
          },
          "autotypenumbers": "strict",
          "coloraxis": {
           "colorbar": {
            "outlinewidth": 0,
            "ticks": ""
           }
          },
          "colorscale": {
           "diverging": [
            [
             0,
             "#8e0152"
            ],
            [
             0.1,
             "#c51b7d"
            ],
            [
             0.2,
             "#de77ae"
            ],
            [
             0.3,
             "#f1b6da"
            ],
            [
             0.4,
             "#fde0ef"
            ],
            [
             0.5,
             "#f7f7f7"
            ],
            [
             0.6,
             "#e6f5d0"
            ],
            [
             0.7,
             "#b8e186"
            ],
            [
             0.8,
             "#7fbc41"
            ],
            [
             0.9,
             "#4d9221"
            ],
            [
             1,
             "#276419"
            ]
           ],
           "sequential": [
            [
             0.0,
             "#0d0887"
            ],
            [
             0.1111111111111111,
             "#46039f"
            ],
            [
             0.2222222222222222,
             "#7201a8"
            ],
            [
             0.3333333333333333,
             "#9c179e"
            ],
            [
             0.4444444444444444,
             "#bd3786"
            ],
            [
             0.5555555555555556,
             "#d8576b"
            ],
            [
             0.6666666666666666,
             "#ed7953"
            ],
            [
             0.7777777777777778,
             "#fb9f3a"
            ],
            [
             0.8888888888888888,
             "#fdca26"
            ],
            [
             1.0,
             "#f0f921"
            ]
           ],
           "sequentialminus": [
            [
             0.0,
             "#0d0887"
            ],
            [
             0.1111111111111111,
             "#46039f"
            ],
            [
             0.2222222222222222,
             "#7201a8"
            ],
            [
             0.3333333333333333,
             "#9c179e"
            ],
            [
             0.4444444444444444,
             "#bd3786"
            ],
            [
             0.5555555555555556,
             "#d8576b"
            ],
            [
             0.6666666666666666,
             "#ed7953"
            ],
            [
             0.7777777777777778,
             "#fb9f3a"
            ],
            [
             0.8888888888888888,
             "#fdca26"
            ],
            [
             1.0,
             "#f0f921"
            ]
           ]
          },
          "colorway": [
           "#636efa",
           "#EF553B",
           "#00cc96",
           "#ab63fa",
           "#FFA15A",
           "#19d3f3",
           "#FF6692",
           "#B6E880",
           "#FF97FF",
           "#FECB52"
          ],
          "font": {
           "color": "#2a3f5f"
          },
          "geo": {
           "bgcolor": "white",
           "lakecolor": "white",
           "landcolor": "#E5ECF6",
           "showlakes": true,
           "showland": true,
           "subunitcolor": "white"
          },
          "hoverlabel": {
           "align": "left"
          },
          "hovermode": "closest",
          "mapbox": {
           "style": "light"
          },
          "paper_bgcolor": "white",
          "plot_bgcolor": "#E5ECF6",
          "polar": {
           "angularaxis": {
            "gridcolor": "white",
            "linecolor": "white",
            "ticks": ""
           },
           "bgcolor": "#E5ECF6",
           "radialaxis": {
            "gridcolor": "white",
            "linecolor": "white",
            "ticks": ""
           }
          },
          "scene": {
           "xaxis": {
            "backgroundcolor": "#E5ECF6",
            "gridcolor": "white",
            "gridwidth": 2,
            "linecolor": "white",
            "showbackground": true,
            "ticks": "",
            "zerolinecolor": "white"
           },
           "yaxis": {
            "backgroundcolor": "#E5ECF6",
            "gridcolor": "white",
            "gridwidth": 2,
            "linecolor": "white",
            "showbackground": true,
            "ticks": "",
            "zerolinecolor": "white"
           },
           "zaxis": {
            "backgroundcolor": "#E5ECF6",
            "gridcolor": "white",
            "gridwidth": 2,
            "linecolor": "white",
            "showbackground": true,
            "ticks": "",
            "zerolinecolor": "white"
           }
          },
          "shapedefaults": {
           "line": {
            "color": "#2a3f5f"
           }
          },
          "ternary": {
           "aaxis": {
            "gridcolor": "white",
            "linecolor": "white",
            "ticks": ""
           },
           "baxis": {
            "gridcolor": "white",
            "linecolor": "white",
            "ticks": ""
           },
           "bgcolor": "#E5ECF6",
           "caxis": {
            "gridcolor": "white",
            "linecolor": "white",
            "ticks": ""
           }
          },
          "title": {
           "x": 0.05
          },
          "xaxis": {
           "automargin": true,
           "gridcolor": "white",
           "linecolor": "white",
           "ticks": "",
           "title": {
            "standoff": 15
           },
           "zerolinecolor": "white",
           "zerolinewidth": 2
          },
          "yaxis": {
           "automargin": true,
           "gridcolor": "white",
           "linecolor": "white",
           "ticks": "",
           "title": {
            "standoff": 15
           },
           "zerolinecolor": "white",
           "zerolinewidth": 2
          }
         }
        },
        "title": {
         "text": "K-Nearest Neighbors Model Optimisation"
        },
        "xaxis": {
         "anchor": "y",
         "domain": [
          0.0,
          1.0
         ],
         "title": {
          "text": "k_neighbors"
         }
        },
        "yaxis": {
         "anchor": "x",
         "domain": [
          0.0,
          1.0
         ],
         "title": {
          "text": "score"
         }
        }
       }
      },
      "text/html": "<div>                            <div id=\"bf8ea429-8d45-44e5-8a92-cb81615f90f3\" class=\"plotly-graph-div\" style=\"height:525px; width:100%;\"></div>            <script type=\"text/javascript\">                require([\"plotly\"], function(Plotly) {                    window.PLOTLYENV=window.PLOTLYENV || {};                                    if (document.getElementById(\"bf8ea429-8d45-44e5-8a92-cb81615f90f3\")) {                    Plotly.newPlot(                        \"bf8ea429-8d45-44e5-8a92-cb81615f90f3\",                        [{\"hovertemplate\": \"metric=accuracy<br>k_neighbors=%{x}<br>score=%{y}<extra></extra>\", \"legendgroup\": \"accuracy\", \"line\": {\"color\": \"#636efa\", \"dash\": \"solid\"}, \"mode\": \"lines\", \"name\": \"accuracy\", \"orientation\": \"v\", \"showlegend\": true, \"type\": \"scatter\", \"x\": [1, 2, 3, 4, 5, 6, 7, 8, 9, 10, 11, 12, 13, 14, 15, 16, 17, 18, 19, 20, 21, 22, 23, 24, 25, 26, 27, 28, 29, 30, 31, 32, 33, 34, 35, 36, 37, 38, 39, 40, 41, 42, 43, 44, 45, 46, 47, 48, 49, 50, 51, 52, 53, 54, 55, 56, 57, 58, 59, 60, 61, 62, 63, 64, 65, 66, 67, 68, 69, 70, 71, 72, 73, 74, 75, 76, 77, 78, 79, 80, 81, 82, 83, 84, 85, 86, 87, 88, 89, 90, 91, 92, 93, 94, 95, 96, 97, 98, 99, 100], \"xaxis\": \"x\", \"y\": [0.9560316721006055, 0.9489830771619314, 0.9630647414997672, 0.9577860580655179, 0.9631113181183046, 0.9595714951094549, 0.9666356155876418, 0.9648657040832168, 0.9683744760130415, 0.9683589504735289, 0.9613569321533924, 0.9613569321533924, 0.9578481602235678, 0.9560937742586555, 0.9561092997981679, 0.9578636857630803, 0.9561092997981679, 0.9543393882937432, 0.9560937742586555, 0.9560937742586555, 0.9543549138332557, 0.9543549138332557, 0.9508461419034312, 0.9543549138332557, 0.9543549138332557, 0.9525850023288308, 0.9490762303990063, 0.9490762303990063, 0.9490762303990063, 0.9508306163639186, 0.9490762303990063, 0.9525850023288308, 0.9490762303990063, 0.9525850023288308, 0.9525850023288308, 0.9543393882937432, 0.9525850023288308, 0.9525850023288308, 0.9525850023288308, 0.9525850023288308, 0.9508306163639186, 0.9508306163639186, 0.9508306163639186, 0.952585002328831, 0.9525850023288308, 0.9508306163639186, 0.9525850023288308, 0.9525850023288308, 0.9490762303990063, 0.9490762303990063, 0.9473218444340941, 0.9490762303990063, 0.9455674584691817, 0.9490762303990063, 0.9473218444340941, 0.9490762303990063, 0.9455674584691817, 0.9473218444340941, 0.9438130725042695, 0.9455674584691819, 0.9438130725042695, 0.9438130725042695, 0.9403043005744449, 0.9420586865393572, 0.9420586865393572, 0.9420586865393572, 0.9403043005744449, 0.9420586865393572, 0.9403043005744449, 0.9420586865393572, 0.9385499146095327, 0.9385499146095327, 0.9367955286446203, 0.9350411426797081, 0.9332867567147958, 0.9350411426797081, 0.9350411426797081, 0.9350411426797081, 0.9332867567147958, 0.9367955286446203, 0.9332867567147959, 0.9350411426797081, 0.9315323707498836, 0.9350411426797081, 0.9332867567147958, 0.9367955286446203, 0.9332867567147959, 0.9332867567147959, 0.9280235988200589, 0.9332867567147959, 0.9297779847849712, 0.9297779847849712, 0.9297779847849712, 0.9297779847849712, 0.9280235988200589, 0.9297779847849712, 0.9280235988200589, 0.9280235988200589, 0.9280235988200589, 0.9280235988200589], \"yaxis\": \"y\"}, {\"hovertemplate\": \"metric=f1<br>k_neighbors=%{x}<br>score=%{y}<extra></extra>\", \"legendgroup\": \"f1\", \"line\": {\"color\": \"#EF553B\", \"dash\": \"solid\"}, \"mode\": \"lines\", \"name\": \"f1\", \"orientation\": \"v\", \"showlegend\": true, \"type\": \"scatter\", \"x\": [1, 2, 3, 4, 5, 6, 7, 8, 9, 10, 11, 12, 13, 14, 15, 16, 17, 18, 19, 20, 21, 22, 23, 24, 25, 26, 27, 28, 29, 30, 31, 32, 33, 34, 35, 36, 37, 38, 39, 40, 41, 42, 43, 44, 45, 46, 47, 48, 49, 50, 51, 52, 53, 54, 55, 56, 57, 58, 59, 60, 61, 62, 63, 64, 65, 66, 67, 68, 69, 70, 71, 72, 73, 74, 75, 76, 77, 78, 79, 80, 81, 82, 83, 84, 85, 86, 87, 88, 89, 90, 91, 92, 93, 94, 95, 96, 97, 98, 99, 100], \"xaxis\": \"x\", \"y\": [0.9632831766838953, 0.9573873790879779, 0.9678891444594779, 0.9622246811928203, 0.9658345095536731, 0.9620458002656973, 0.9681736908402229, 0.9680776808330988, 0.9711142116459535, 0.9718500909135583, 0.9641288941157713, 0.9647231615634185, 0.9606391190149797, 0.9600056473471504, 0.959174354483952, 0.9611614915029945, 0.9594142579561105, 0.9582584138002664, 0.9594557684817839, 0.9589851802464899, 0.9566900440101771, 0.9566900440101771, 0.953858980056747, 0.9566900440101771, 0.957217947479257, 0.956193814061138, 0.9529764935213851, 0.9529764935213851, 0.9529764935213851, 0.9546248451697368, 0.9529764935213851, 0.9563052036462117, 0.9529764935213851, 0.9563052036462117, 0.956786017330909, 0.9584709990158906, 0.956786017330909, 0.9563052036462117, 0.956786017330909, 0.9563052036462117, 0.9546248451697368, 0.9546248451697368, 0.9546522049508586, 0.9558081957029325, 0.9568133771120306, 0.955630186577555, 0.9568133771120306, 0.9568133771120306, 0.9537440655299555, 0.9539769969998371, 0.9525608749954799, 0.9539769969998371, 0.9509733920431696, 0.9537440655299555, 0.9523486168395305, 0.9537440655299555, 0.9509733920431696, 0.9523486168395305, 0.949351103205222, 0.9507263280015831, 0.9491340815495235, 0.9491340815495235, 0.9464860669354811, 0.9477588567531626, 0.9477588567531626, 0.9477588567531626, 0.9464860669354811, 0.9477588567531626, 0.9464860669354811, 0.9477588567531626, 0.9446612136555194, 0.9446612136555194, 0.9433884238378379, 0.9418439406050018, 0.9404898731132002, 0.9418439406050018, 0.9418439406050018, 0.9418439406050018, 0.9404898731132002, 0.9431167304226833, 0.9403369790980403, 0.9416097689157217, 0.9389211169176124, 0.9416097689157217, 0.9402557014239203, 0.9431167304226833, 0.9403369790980403, 0.9403369790980403, 0.93633280808657, 0.9403369790980403, 0.9376483270999308, 0.9376483270999308, 0.9376483270999308, 0.9376483270999308, 0.9361682756198795, 0.9375028601261872, 0.9361682756198795, 0.9361682756198795, 0.9361682756198795, 0.9353793080026351], \"yaxis\": \"y\"}],                        {\"legend\": {\"title\": {\"text\": \"metric\"}, \"tracegroupgap\": 0}, \"margin\": {\"t\": 60}, \"template\": {\"data\": {\"bar\": [{\"error_x\": {\"color\": \"#2a3f5f\"}, \"error_y\": {\"color\": \"#2a3f5f\"}, \"marker\": {\"line\": {\"color\": \"#E5ECF6\", \"width\": 0.5}}, \"type\": \"bar\"}], \"barpolar\": [{\"marker\": {\"line\": {\"color\": \"#E5ECF6\", \"width\": 0.5}}, \"type\": \"barpolar\"}], \"carpet\": [{\"aaxis\": {\"endlinecolor\": \"#2a3f5f\", \"gridcolor\": \"white\", \"linecolor\": \"white\", \"minorgridcolor\": \"white\", \"startlinecolor\": \"#2a3f5f\"}, \"baxis\": {\"endlinecolor\": \"#2a3f5f\", \"gridcolor\": \"white\", \"linecolor\": \"white\", \"minorgridcolor\": \"white\", \"startlinecolor\": \"#2a3f5f\"}, \"type\": \"carpet\"}], \"choropleth\": [{\"colorbar\": {\"outlinewidth\": 0, \"ticks\": \"\"}, \"type\": \"choropleth\"}], \"contour\": [{\"colorbar\": {\"outlinewidth\": 0, \"ticks\": \"\"}, \"colorscale\": [[0.0, \"#0d0887\"], [0.1111111111111111, \"#46039f\"], [0.2222222222222222, \"#7201a8\"], [0.3333333333333333, \"#9c179e\"], [0.4444444444444444, \"#bd3786\"], [0.5555555555555556, \"#d8576b\"], [0.6666666666666666, \"#ed7953\"], [0.7777777777777778, \"#fb9f3a\"], [0.8888888888888888, \"#fdca26\"], [1.0, \"#f0f921\"]], \"type\": \"contour\"}], \"contourcarpet\": [{\"colorbar\": {\"outlinewidth\": 0, \"ticks\": \"\"}, \"type\": \"contourcarpet\"}], \"heatmap\": [{\"colorbar\": {\"outlinewidth\": 0, \"ticks\": \"\"}, \"colorscale\": [[0.0, \"#0d0887\"], [0.1111111111111111, \"#46039f\"], [0.2222222222222222, \"#7201a8\"], [0.3333333333333333, \"#9c179e\"], [0.4444444444444444, \"#bd3786\"], [0.5555555555555556, \"#d8576b\"], [0.6666666666666666, \"#ed7953\"], [0.7777777777777778, \"#fb9f3a\"], [0.8888888888888888, \"#fdca26\"], [1.0, \"#f0f921\"]], \"type\": \"heatmap\"}], \"heatmapgl\": [{\"colorbar\": {\"outlinewidth\": 0, \"ticks\": \"\"}, \"colorscale\": [[0.0, \"#0d0887\"], [0.1111111111111111, \"#46039f\"], [0.2222222222222222, \"#7201a8\"], [0.3333333333333333, \"#9c179e\"], [0.4444444444444444, \"#bd3786\"], [0.5555555555555556, \"#d8576b\"], [0.6666666666666666, \"#ed7953\"], [0.7777777777777778, \"#fb9f3a\"], [0.8888888888888888, \"#fdca26\"], [1.0, \"#f0f921\"]], \"type\": \"heatmapgl\"}], \"histogram\": [{\"marker\": {\"colorbar\": {\"outlinewidth\": 0, \"ticks\": \"\"}}, \"type\": \"histogram\"}], \"histogram2d\": [{\"colorbar\": {\"outlinewidth\": 0, \"ticks\": \"\"}, \"colorscale\": [[0.0, \"#0d0887\"], [0.1111111111111111, \"#46039f\"], [0.2222222222222222, \"#7201a8\"], [0.3333333333333333, \"#9c179e\"], [0.4444444444444444, \"#bd3786\"], [0.5555555555555556, \"#d8576b\"], [0.6666666666666666, \"#ed7953\"], [0.7777777777777778, \"#fb9f3a\"], [0.8888888888888888, \"#fdca26\"], [1.0, \"#f0f921\"]], \"type\": \"histogram2d\"}], \"histogram2dcontour\": [{\"colorbar\": {\"outlinewidth\": 0, \"ticks\": \"\"}, \"colorscale\": [[0.0, \"#0d0887\"], [0.1111111111111111, \"#46039f\"], [0.2222222222222222, \"#7201a8\"], [0.3333333333333333, \"#9c179e\"], [0.4444444444444444, \"#bd3786\"], [0.5555555555555556, \"#d8576b\"], [0.6666666666666666, \"#ed7953\"], [0.7777777777777778, \"#fb9f3a\"], [0.8888888888888888, \"#fdca26\"], [1.0, \"#f0f921\"]], \"type\": \"histogram2dcontour\"}], \"mesh3d\": [{\"colorbar\": {\"outlinewidth\": 0, \"ticks\": \"\"}, \"type\": \"mesh3d\"}], \"parcoords\": [{\"line\": {\"colorbar\": {\"outlinewidth\": 0, \"ticks\": \"\"}}, \"type\": \"parcoords\"}], \"pie\": [{\"automargin\": true, \"type\": \"pie\"}], \"scatter\": [{\"marker\": {\"colorbar\": {\"outlinewidth\": 0, \"ticks\": \"\"}}, \"type\": \"scatter\"}], \"scatter3d\": [{\"line\": {\"colorbar\": {\"outlinewidth\": 0, \"ticks\": \"\"}}, \"marker\": {\"colorbar\": {\"outlinewidth\": 0, \"ticks\": \"\"}}, \"type\": \"scatter3d\"}], \"scattercarpet\": [{\"marker\": {\"colorbar\": {\"outlinewidth\": 0, \"ticks\": \"\"}}, \"type\": \"scattercarpet\"}], \"scattergeo\": [{\"marker\": {\"colorbar\": {\"outlinewidth\": 0, \"ticks\": \"\"}}, \"type\": \"scattergeo\"}], \"scattergl\": [{\"marker\": {\"colorbar\": {\"outlinewidth\": 0, \"ticks\": \"\"}}, \"type\": \"scattergl\"}], \"scattermapbox\": [{\"marker\": {\"colorbar\": {\"outlinewidth\": 0, \"ticks\": \"\"}}, \"type\": \"scattermapbox\"}], \"scatterpolar\": [{\"marker\": {\"colorbar\": {\"outlinewidth\": 0, \"ticks\": \"\"}}, \"type\": \"scatterpolar\"}], \"scatterpolargl\": [{\"marker\": {\"colorbar\": {\"outlinewidth\": 0, \"ticks\": \"\"}}, \"type\": \"scatterpolargl\"}], \"scatterternary\": [{\"marker\": {\"colorbar\": {\"outlinewidth\": 0, \"ticks\": \"\"}}, \"type\": \"scatterternary\"}], \"surface\": [{\"colorbar\": {\"outlinewidth\": 0, \"ticks\": \"\"}, \"colorscale\": [[0.0, \"#0d0887\"], [0.1111111111111111, \"#46039f\"], [0.2222222222222222, \"#7201a8\"], [0.3333333333333333, \"#9c179e\"], [0.4444444444444444, \"#bd3786\"], [0.5555555555555556, \"#d8576b\"], [0.6666666666666666, \"#ed7953\"], [0.7777777777777778, \"#fb9f3a\"], [0.8888888888888888, \"#fdca26\"], [1.0, \"#f0f921\"]], \"type\": \"surface\"}], \"table\": [{\"cells\": {\"fill\": {\"color\": \"#EBF0F8\"}, \"line\": {\"color\": \"white\"}}, \"header\": {\"fill\": {\"color\": \"#C8D4E3\"}, \"line\": {\"color\": \"white\"}}, \"type\": \"table\"}]}, \"layout\": {\"annotationdefaults\": {\"arrowcolor\": \"#2a3f5f\", \"arrowhead\": 0, \"arrowwidth\": 1}, \"autotypenumbers\": \"strict\", \"coloraxis\": {\"colorbar\": {\"outlinewidth\": 0, \"ticks\": \"\"}}, \"colorscale\": {\"diverging\": [[0, \"#8e0152\"], [0.1, \"#c51b7d\"], [0.2, \"#de77ae\"], [0.3, \"#f1b6da\"], [0.4, \"#fde0ef\"], [0.5, \"#f7f7f7\"], [0.6, \"#e6f5d0\"], [0.7, \"#b8e186\"], [0.8, \"#7fbc41\"], [0.9, \"#4d9221\"], [1, \"#276419\"]], \"sequential\": [[0.0, \"#0d0887\"], [0.1111111111111111, \"#46039f\"], [0.2222222222222222, \"#7201a8\"], [0.3333333333333333, \"#9c179e\"], [0.4444444444444444, \"#bd3786\"], [0.5555555555555556, \"#d8576b\"], [0.6666666666666666, \"#ed7953\"], [0.7777777777777778, \"#fb9f3a\"], [0.8888888888888888, \"#fdca26\"], [1.0, \"#f0f921\"]], \"sequentialminus\": [[0.0, \"#0d0887\"], [0.1111111111111111, \"#46039f\"], [0.2222222222222222, \"#7201a8\"], [0.3333333333333333, \"#9c179e\"], [0.4444444444444444, \"#bd3786\"], [0.5555555555555556, \"#d8576b\"], [0.6666666666666666, \"#ed7953\"], [0.7777777777777778, \"#fb9f3a\"], [0.8888888888888888, \"#fdca26\"], [1.0, \"#f0f921\"]]}, \"colorway\": [\"#636efa\", \"#EF553B\", \"#00cc96\", \"#ab63fa\", \"#FFA15A\", \"#19d3f3\", \"#FF6692\", \"#B6E880\", \"#FF97FF\", \"#FECB52\"], \"font\": {\"color\": \"#2a3f5f\"}, \"geo\": {\"bgcolor\": \"white\", \"lakecolor\": \"white\", \"landcolor\": \"#E5ECF6\", \"showlakes\": true, \"showland\": true, \"subunitcolor\": \"white\"}, \"hoverlabel\": {\"align\": \"left\"}, \"hovermode\": \"closest\", \"mapbox\": {\"style\": \"light\"}, \"paper_bgcolor\": \"white\", \"plot_bgcolor\": \"#E5ECF6\", \"polar\": {\"angularaxis\": {\"gridcolor\": \"white\", \"linecolor\": \"white\", \"ticks\": \"\"}, \"bgcolor\": \"#E5ECF6\", \"radialaxis\": {\"gridcolor\": \"white\", \"linecolor\": \"white\", \"ticks\": \"\"}}, \"scene\": {\"xaxis\": {\"backgroundcolor\": \"#E5ECF6\", \"gridcolor\": \"white\", \"gridwidth\": 2, \"linecolor\": \"white\", \"showbackground\": true, \"ticks\": \"\", \"zerolinecolor\": \"white\"}, \"yaxis\": {\"backgroundcolor\": \"#E5ECF6\", \"gridcolor\": \"white\", \"gridwidth\": 2, \"linecolor\": \"white\", \"showbackground\": true, \"ticks\": \"\", \"zerolinecolor\": \"white\"}, \"zaxis\": {\"backgroundcolor\": \"#E5ECF6\", \"gridcolor\": \"white\", \"gridwidth\": 2, \"linecolor\": \"white\", \"showbackground\": true, \"ticks\": \"\", \"zerolinecolor\": \"white\"}}, \"shapedefaults\": {\"line\": {\"color\": \"#2a3f5f\"}}, \"ternary\": {\"aaxis\": {\"gridcolor\": \"white\", \"linecolor\": \"white\", \"ticks\": \"\"}, \"baxis\": {\"gridcolor\": \"white\", \"linecolor\": \"white\", \"ticks\": \"\"}, \"bgcolor\": \"#E5ECF6\", \"caxis\": {\"gridcolor\": \"white\", \"linecolor\": \"white\", \"ticks\": \"\"}}, \"title\": {\"x\": 0.05}, \"xaxis\": {\"automargin\": true, \"gridcolor\": \"white\", \"linecolor\": \"white\", \"ticks\": \"\", \"title\": {\"standoff\": 15}, \"zerolinecolor\": \"white\", \"zerolinewidth\": 2}, \"yaxis\": {\"automargin\": true, \"gridcolor\": \"white\", \"linecolor\": \"white\", \"ticks\": \"\", \"title\": {\"standoff\": 15}, \"zerolinecolor\": \"white\", \"zerolinewidth\": 2}}}, \"title\": {\"text\": \"K-Nearest Neighbors Model Optimisation\"}, \"xaxis\": {\"anchor\": \"y\", \"domain\": [0.0, 1.0], \"title\": {\"text\": \"k_neighbors\"}}, \"yaxis\": {\"anchor\": \"x\", \"domain\": [0.0, 1.0], \"title\": {\"text\": \"score\"}}},                        {\"responsive\": true}                    ).then(function(){\n                            \nvar gd = document.getElementById('bf8ea429-8d45-44e5-8a92-cb81615f90f3');\nvar x = new MutationObserver(function (mutations, observer) {{\n        var display = window.getComputedStyle(gd).display;\n        if (!display || display === 'none') {{\n            console.log([gd, 'removed!']);\n            Plotly.purge(gd);\n            observer.disconnect();\n        }}\n}});\n\n// Listen for the removal of the full notebook cells\nvar notebookContainer = gd.closest('#notebook-container');\nif (notebookContainer) {{\n    x.observe(notebookContainer, {childList: true});\n}}\n\n// Listen for the clearing of the current output cell\nvar outputEl = gd.closest('.output');\nif (outputEl) {{\n    x.observe(outputEl, {childList: true});\n}}\n\n                        })                };                });            </script>        </div>"
     },
     "metadata": {},
     "output_type": "display_data"
    }
   ],
   "source": [
    "fig = px.line(df_scores,\n",
    "              x='k_neighbors',\n",
    "              y='score',\n",
    "              color='metric')\n",
    "\n",
    "fig.update_layout(title='K-Nearest Neighbors Model Optimisation')\n",
    "\n",
    "fig.show()"
   ],
   "metadata": {
    "collapsed": false,
    "pycharm": {
     "name": "#%%\n"
    }
   }
  },
  {
   "cell_type": "markdown",
   "source": [
    "This figure does an excellent job of illustrating how the accuracy of the model changes when increasing k. At very low\n",
    "values of k, the model is overfitting the data, and a classification may be being influenced too heavily by an outlier.\n",
    "As we increase k, the performance increases, as the overfitting decreases. However, increasing k by too much will cause\n",
    "performance to drop once again, as the model begins to underfit the data, by ignoring larger trends in the dataset.\n",
    "\n",
    "We can see the k value with the highest accuracy and f1 scores is k=10. However, it's usually good to avoid an even\n",
    "number for k, to avoid scenarios where a datapoint to be predicted has an even number of neighbors with opposing\n",
    "classes. In which case, we'll use k=9 as our k_neighbors values."
   ],
   "metadata": {
    "collapsed": false,
    "pycharm": {
     "name": "#%% md\n"
    }
   }
  }
 ],
 "metadata": {
  "kernelspec": {
   "name": "pycharm-277d296b",
   "language": "python",
   "display_name": "PyCharm (BreastCancerClassification)"
  },
  "language_info": {
   "codemirror_mode": {
    "name": "ipython",
    "version": 2
   },
   "file_extension": ".py",
   "mimetype": "text/x-python",
   "name": "python",
   "nbconvert_exporter": "python",
   "pygments_lexer": "ipython2",
   "version": "2.7.6"
  }
 },
 "nbformat": 4,
 "nbformat_minor": 0
}